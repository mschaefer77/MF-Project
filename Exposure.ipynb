{
 "cells": [
  {
   "cell_type": "markdown",
   "metadata": {
    "cell_id": "ea8b8de9102e448798c851829eb08550",
    "deepnote_cell_type": "markdown"
   },
   "source": [
    "# Summary of Notebook #\n",
    "1. Got daily data on Ark returns, Ark current holdings, and historical returns of Ark current holdings. Also got daily macro asset returns and equity indices data.\n",
    "2. Analyzed Ark's returns profile. \n",
    "3. Analyzed Ark's exposure to broad US equity indices. Focused particularly on when Ark underperforms. \n",
    "4. Analyzed Ark's macro exposures on static and rolling basis. \n",
    "5. Used PCA to explain the returns on the individual assets in Ark's current holdings.\n",
    "6. Analyzed macro exposures of the current holdings. \n",
    "\n",
    "# Main Takeaways #\n",
    "1. Ark has high beta > 1 on US equities, performing like a levered version of the S&P/Nasdaq (they don't actually use leverage). \n",
    "2. Ark performs particularly poorly during major drawdowns in US equities. We can hedge this with options and optimize strike/maturity based on which types of drawdowns hurt Ark the most. \n",
    "3. In addition to US equities, Ark has statistically significant regression betas to US treasuries and commodities. \n",
    "4. Through PCA, we see that Ark's current holdings are particularly exposed to the health care sector, which we could hedge with a health care sector ETF.\n",
    "5. We can dynamically assess the risk factors of Ark's holdings over time through rolling PCA/regression."
   ]
  },
  {
   "cell_type": "markdown",
   "metadata": {
    "cell_id": "4500aa73fbfd43409eb23f8fab551142",
    "deepnote_cell_type": "markdown"
   },
   "source": [
    "# Next Steps #\n",
    "1. Calibration SPY options hedging strategy.\n",
    "2. Determine other macro hedges: rates, commodities, healthcare."
   ]
  },
  {
   "cell_type": "markdown",
   "metadata": {
    "cell_id": "5eb786ccfe5d4f0c9bb9e66946c37297",
    "deepnote_cell_type": "markdown"
   },
   "source": [
    "---------------------------------------------------------------------------------------------------------------------------------------------------------"
   ]
  },
  {
   "cell_type": "markdown",
   "metadata": {
    "cell_id": "3e46cec21e4d473f881cbdda6ffc8c22",
    "deepnote_cell_type": "markdown"
   },
   "source": [
    "# Import and Clean Data #"
   ]
  },
  {
   "cell_type": "code",
   "execution_count": 8,
   "metadata": {
    "cell_id": "be464bb288dd4dcc85cc17e3506db0b6",
    "deepnote_cell_type": "code",
    "execution_context_id": "04b5c186-7165-4dc0-9cc1-f9cc42a58673",
    "execution_millis": 3006,
    "execution_start": 1747515193079,
    "source_hash": "ec5a654d"
   },
   "outputs": [],
   "source": [
    "import pandas as pd\n",
    "import numpy as np\n",
    "import yfinance as yf\n",
    "from pandas_datareader import data as pdr\n",
    "import matplotlib.pyplot as plt\n",
    "import matplotlib.dates as mdates\n",
    "import seaborn as sns\n",
    "import statsmodels.api as sm\n",
    "import warnings\n",
    "warnings.simplefilter(\"ignore\")\n",
    "from scipy import stats\n",
    "from sklearn.decomposition import PCA\n"
   ]
  },
  {
   "cell_type": "markdown",
   "metadata": {
    "cell_id": "524966307088423684b2d56e27f52534",
    "deepnote_cell_type": "markdown"
   },
   "source": [
    "### Load ARKK Holdings Data as of 2025-05-16 ###\n",
    "This tells us Ark's current holdings, including the dollar weight in the portfolio on each name."
   ]
  },
  {
   "cell_type": "code",
   "execution_count": 9,
   "metadata": {
    "cell_id": "123fbebabe47498fa906d77aa7a6ca37",
    "deepnote_cell_type": "code",
    "execution_context_id": "04b5c186-7165-4dc0-9cc1-f9cc42a58673",
    "execution_millis": 318,
    "execution_start": 1747515196166,
    "source_hash": "37609c09"
   },
   "outputs": [
    {
     "data": {
      "application/vnd.microsoft.datawrangler.viewer.v0+json": {
       "columns": [
        {
         "name": "index",
         "rawType": "int64",
         "type": "integer"
        },
        {
         "name": "date",
         "rawType": "object",
         "type": "string"
        },
        {
         "name": "fund",
         "rawType": "object",
         "type": "string"
        },
        {
         "name": "company",
         "rawType": "object",
         "type": "string"
        },
        {
         "name": "ticker",
         "rawType": "object",
         "type": "string"
        },
        {
         "name": "cusip",
         "rawType": "object",
         "type": "string"
        },
        {
         "name": "shares",
         "rawType": "object",
         "type": "string"
        },
        {
         "name": "market value ($)",
         "rawType": "object",
         "type": "string"
        },
        {
         "name": "weight",
         "rawType": "float64",
         "type": "float"
        }
       ],
       "conversionMethod": "pd.DataFrame",
       "ref": "888f9785-dcc4-458b-8c49-16492fd9aacd",
       "rows": [
        [
         "0",
         "05/14/2025",
         "ARKK",
         "TESLA INC",
         "TSLA",
         "88160R101",
         "2,236,468",
         "$747,136,864.76",
         "0.12560000000000002"
        ],
        [
         "1",
         "05/14/2025",
         "ARKK",
         "COINBASE GLOBAL INC -CLASS A",
         "COIN",
         "19260Q107",
         "2,055,170",
         "$527,973,173.00",
         "0.08869999999999999"
        ],
        [
         "2",
         "05/14/2025",
         "ARKK",
         "ROKU INC",
         "ROKU",
         "77543R102",
         "6,287,334",
         "$448,915,647.60",
         "0.0755"
        ],
        [
         "3",
         "05/14/2025",
         "ARKK",
         "ROBLOX CORP -CLASS A",
         "RBLX",
         "771049103",
         "5,729,978",
         "$441,322,905.56",
         "0.0742"
        ],
        [
         "4",
         "05/14/2025",
         "ARKK",
         "TEMPUS AI INC",
         "TEM",
         "88023B103",
         "5,283,141",
         "$364,061,246.31",
         "0.061200000000000004"
        ],
        [
         "5",
         "05/14/2025",
         "ARKK",
         "PALANTIR TECHNOLOGIES INC-A",
         "PLTR",
         "69608A108",
         "2,672,586",
         "$342,358,266.60",
         "0.0575"
        ],
        [
         "6",
         "05/14/2025",
         "ARKK",
         "ROBINHOOD MARKETS INC - A",
         "HOOD",
         "770700102",
         "4,870,036",
         "$304,718,152.52",
         "0.0512"
        ],
        [
         "7",
         "05/14/2025",
         "ARKK",
         "SHOPIFY INC - CLASS A",
         "SHOP",
         "82509L107",
         "2,729,354",
         "$293,896,838.72",
         "0.049400000000000006"
        ],
        [
         "8",
         "05/14/2025",
         "ARKK",
         "CRISPR THERAPEUTICS AG",
         "CRSP",
         "H17182108",
         "6,940,182",
         "$258,313,574.04",
         "0.0434"
        ],
        [
         "9",
         "05/14/2025",
         "ARKK",
         "ARCHER AVIATION INC-A",
         "ACHR",
         "03945R102",
         "16,105,839",
         "$179,741,163.24",
         "0.0302"
        ],
        [
         "10",
         "05/14/2025",
         "ARKK",
         "META PLATFORMS INC-CLASS A",
         "META",
         "30303M102",
         "210,009",
         "$137,772,204.27",
         "0.0232"
        ],
        [
         "11",
         "05/14/2025",
         "ARKK",
         "AMAZON.COM INC",
         "AMZN",
         "023135106",
         "604,192",
         "$127,708,063.04",
         "0.0215"
        ],
        [
         "12",
         "05/14/2025",
         "ARKK",
         "TWIST BIOSCIENCE CORP",
         "TWST",
         "90184D100",
         "3,845,530",
         "$124,172,163.70",
         "0.0209"
        ],
        [
         "13",
         "05/14/2025",
         "ARKK",
         "BLOCK INC",
         "XYZ",
         "852234103",
         "2,077,212",
         "$120,831,422.04",
         "0.0203"
        ],
        [
         "14",
         "05/14/2025",
         "ARKK",
         "PAGERDUTY INC",
         "PD",
         "69553P100",
         "6,893,374",
         "$117,187,358.00",
         "0.0197"
        ],
        [
         "15",
         "05/14/2025",
         "ARKK",
         "ADVANCED MICRO DEVICES",
         "AMD",
         "007903107",
         "1,014,044",
         "$114,039,388.24",
         "0.0192"
        ],
        [
         "16",
         "05/14/2025",
         "ARKK",
         "DRAFTKINGS INC-CL A",
         "DKNG UW",
         "26142V105",
         "2,911,216",
         "$109,694,618.88",
         "0.0184"
        ],
        [
         "17",
         "05/14/2025",
         "ARKK",
         "BEAM THERAPEUTICS INC",
         "BEAM",
         "07373V105",
         "5,917,748",
         "$106,815,351.40",
         "0.018000000000000002"
        ],
        [
         "18",
         "05/14/2025",
         "ARKK",
         "GITLAB INC-CL A",
         "GTLB",
         "37637K108",
         "2,001,254",
         "$106,786,913.44",
         "0.0179"
        ],
        [
         "19",
         "05/14/2025",
         "ARKK",
         "TERADYNE INC",
         "TER",
         "880770102",
         "1,134,471",
         "$96,316,587.90",
         "0.016200000000000003"
        ],
        [
         "20",
         "05/14/2025",
         "ARKK",
         "10X GENOMICS INC-CLASS A",
         "TXG",
         "88025U109",
         "9,200,531",
         "$88,785,124.15",
         "0.0149"
        ],
        [
         "21",
         "05/14/2025",
         "ARKK",
         "RECURSION PHARMACEUTICALS-A",
         "RXRX",
         "75629V104",
         "19,361,691",
         "$87,321,226.41",
         "0.0147"
        ],
        [
         "22",
         "05/14/2025",
         "ARKK",
         "TRADE DESK INC/THE -CLASS A",
         "TTD",
         "88339J105",
         "1,098,177",
         "$85,811,550.78",
         "0.0144"
        ],
        [
         "23",
         "05/14/2025",
         "ARKK",
         "NATERA INC",
         "NTRA",
         "632307104",
         "555,174",
         "$84,541,896.72",
         "0.014199999999999999"
        ],
        [
         "24",
         "05/14/2025",
         "ARKK",
         "PINTEREST INC- CLASS A",
         "PINS",
         "72352L106",
         "2,301,664",
         "$75,793,795.52",
         "0.0127"
        ],
        [
         "25",
         "05/14/2025",
         "ARKK",
         "INTELLIA THERAPEUTICS INC",
         "NTLA",
         "45826J105",
         "8,806,271",
         "$73,268,174.72",
         "0.0123"
        ],
        [
         "26",
         "05/14/2025",
         "ARKK",
         "ILLUMINA INC",
         "ILMN",
         "452327109",
         "796,292",
         "$63,942,247.60",
         "0.010700000000000001"
        ],
        [
         "27",
         "05/14/2025",
         "ARKK",
         "DEERE & CO",
         "DE",
         "244199105",
         "121,798",
         "$60,724,828.86",
         "0.0102"
        ],
        [
         "28",
         "05/14/2025",
         "ARKK",
         "IRIDIUM COMMUNICATIONS INC",
         "IRDM",
         "46269C102",
         "2,352,715",
         "$60,370,666.90",
         "0.0101"
        ],
        [
         "29",
         "05/14/2025",
         "ARKK",
         "VERACYTE INC",
         "VCYT",
         "92337F107",
         "1,965,822",
         "$57,618,242.82",
         "0.0097"
        ],
        [
         "30",
         "05/14/2025",
         "ARKK",
         "NVIDIA CORP",
         "NVDA",
         "67066G104",
         "395,303",
         "$51,361,718.79",
         "0.0086"
        ],
        [
         "31",
         "05/14/2025",
         "ARKK",
         "GUARDANT HEALTH INC",
         "GH",
         "40131M109",
         "802,813",
         "$33,204,345.68",
         "0.005600000000000001"
        ],
        [
         "32",
         "05/14/2025",
         "ARKK",
         "PACIFIC BIOSCIENCES OF CALIF",
         "PACB",
         "69404D108",
         "23,244,736",
         "$26,731,446.40",
         "0.0045000000000000005"
        ],
        [
         "33",
         "05/14/2025",
         "ARKK",
         "CERUS CORP",
         "CERS",
         "157085101",
         "11,307,350",
         "$14,812,628.50",
         "0.0025"
        ],
        [
         "35",
         "05/14/2025",
         "ARKK",
         "SOFI TECHNOLOGIES INC",
         "SOFI",
         "83406F102",
         "112,976",
         "$1,614,427.04",
         "0.0003"
        ]
       ],
       "shape": {
        "columns": 8,
        "rows": 35
       }
      },
      "text/html": [
       "<div>\n",
       "<style scoped>\n",
       "    .dataframe tbody tr th:only-of-type {\n",
       "        vertical-align: middle;\n",
       "    }\n",
       "\n",
       "    .dataframe tbody tr th {\n",
       "        vertical-align: top;\n",
       "    }\n",
       "\n",
       "    .dataframe thead th {\n",
       "        text-align: right;\n",
       "    }\n",
       "</style>\n",
       "<table border=\"1\" class=\"dataframe\">\n",
       "  <thead>\n",
       "    <tr style=\"text-align: right;\">\n",
       "      <th></th>\n",
       "      <th>date</th>\n",
       "      <th>fund</th>\n",
       "      <th>company</th>\n",
       "      <th>ticker</th>\n",
       "      <th>cusip</th>\n",
       "      <th>shares</th>\n",
       "      <th>market value ($)</th>\n",
       "      <th>weight</th>\n",
       "    </tr>\n",
       "  </thead>\n",
       "  <tbody>\n",
       "    <tr>\n",
       "      <th>0</th>\n",
       "      <td>05/14/2025</td>\n",
       "      <td>ARKK</td>\n",
       "      <td>TESLA INC</td>\n",
       "      <td>TSLA</td>\n",
       "      <td>88160R101</td>\n",
       "      <td>2,236,468</td>\n",
       "      <td>$747,136,864.76</td>\n",
       "      <td>0.1256</td>\n",
       "    </tr>\n",
       "    <tr>\n",
       "      <th>1</th>\n",
       "      <td>05/14/2025</td>\n",
       "      <td>ARKK</td>\n",
       "      <td>COINBASE GLOBAL INC -CLASS A</td>\n",
       "      <td>COIN</td>\n",
       "      <td>19260Q107</td>\n",
       "      <td>2,055,170</td>\n",
       "      <td>$527,973,173.00</td>\n",
       "      <td>0.0887</td>\n",
       "    </tr>\n",
       "    <tr>\n",
       "      <th>2</th>\n",
       "      <td>05/14/2025</td>\n",
       "      <td>ARKK</td>\n",
       "      <td>ROKU INC</td>\n",
       "      <td>ROKU</td>\n",
       "      <td>77543R102</td>\n",
       "      <td>6,287,334</td>\n",
       "      <td>$448,915,647.60</td>\n",
       "      <td>0.0755</td>\n",
       "    </tr>\n",
       "    <tr>\n",
       "      <th>3</th>\n",
       "      <td>05/14/2025</td>\n",
       "      <td>ARKK</td>\n",
       "      <td>ROBLOX CORP -CLASS A</td>\n",
       "      <td>RBLX</td>\n",
       "      <td>771049103</td>\n",
       "      <td>5,729,978</td>\n",
       "      <td>$441,322,905.56</td>\n",
       "      <td>0.0742</td>\n",
       "    </tr>\n",
       "    <tr>\n",
       "      <th>4</th>\n",
       "      <td>05/14/2025</td>\n",
       "      <td>ARKK</td>\n",
       "      <td>TEMPUS AI INC</td>\n",
       "      <td>TEM</td>\n",
       "      <td>88023B103</td>\n",
       "      <td>5,283,141</td>\n",
       "      <td>$364,061,246.31</td>\n",
       "      <td>0.0612</td>\n",
       "    </tr>\n",
       "    <tr>\n",
       "      <th>5</th>\n",
       "      <td>05/14/2025</td>\n",
       "      <td>ARKK</td>\n",
       "      <td>PALANTIR TECHNOLOGIES INC-A</td>\n",
       "      <td>PLTR</td>\n",
       "      <td>69608A108</td>\n",
       "      <td>2,672,586</td>\n",
       "      <td>$342,358,266.60</td>\n",
       "      <td>0.0575</td>\n",
       "    </tr>\n",
       "    <tr>\n",
       "      <th>6</th>\n",
       "      <td>05/14/2025</td>\n",
       "      <td>ARKK</td>\n",
       "      <td>ROBINHOOD MARKETS INC - A</td>\n",
       "      <td>HOOD</td>\n",
       "      <td>770700102</td>\n",
       "      <td>4,870,036</td>\n",
       "      <td>$304,718,152.52</td>\n",
       "      <td>0.0512</td>\n",
       "    </tr>\n",
       "    <tr>\n",
       "      <th>7</th>\n",
       "      <td>05/14/2025</td>\n",
       "      <td>ARKK</td>\n",
       "      <td>SHOPIFY INC - CLASS A</td>\n",
       "      <td>SHOP</td>\n",
       "      <td>82509L107</td>\n",
       "      <td>2,729,354</td>\n",
       "      <td>$293,896,838.72</td>\n",
       "      <td>0.0494</td>\n",
       "    </tr>\n",
       "    <tr>\n",
       "      <th>8</th>\n",
       "      <td>05/14/2025</td>\n",
       "      <td>ARKK</td>\n",
       "      <td>CRISPR THERAPEUTICS AG</td>\n",
       "      <td>CRSP</td>\n",
       "      <td>H17182108</td>\n",
       "      <td>6,940,182</td>\n",
       "      <td>$258,313,574.04</td>\n",
       "      <td>0.0434</td>\n",
       "    </tr>\n",
       "    <tr>\n",
       "      <th>9</th>\n",
       "      <td>05/14/2025</td>\n",
       "      <td>ARKK</td>\n",
       "      <td>ARCHER AVIATION INC-A</td>\n",
       "      <td>ACHR</td>\n",
       "      <td>03945R102</td>\n",
       "      <td>16,105,839</td>\n",
       "      <td>$179,741,163.24</td>\n",
       "      <td>0.0302</td>\n",
       "    </tr>\n",
       "    <tr>\n",
       "      <th>10</th>\n",
       "      <td>05/14/2025</td>\n",
       "      <td>ARKK</td>\n",
       "      <td>META PLATFORMS INC-CLASS A</td>\n",
       "      <td>META</td>\n",
       "      <td>30303M102</td>\n",
       "      <td>210,009</td>\n",
       "      <td>$137,772,204.27</td>\n",
       "      <td>0.0232</td>\n",
       "    </tr>\n",
       "    <tr>\n",
       "      <th>11</th>\n",
       "      <td>05/14/2025</td>\n",
       "      <td>ARKK</td>\n",
       "      <td>AMAZON.COM INC</td>\n",
       "      <td>AMZN</td>\n",
       "      <td>023135106</td>\n",
       "      <td>604,192</td>\n",
       "      <td>$127,708,063.04</td>\n",
       "      <td>0.0215</td>\n",
       "    </tr>\n",
       "    <tr>\n",
       "      <th>12</th>\n",
       "      <td>05/14/2025</td>\n",
       "      <td>ARKK</td>\n",
       "      <td>TWIST BIOSCIENCE CORP</td>\n",
       "      <td>TWST</td>\n",
       "      <td>90184D100</td>\n",
       "      <td>3,845,530</td>\n",
       "      <td>$124,172,163.70</td>\n",
       "      <td>0.0209</td>\n",
       "    </tr>\n",
       "    <tr>\n",
       "      <th>13</th>\n",
       "      <td>05/14/2025</td>\n",
       "      <td>ARKK</td>\n",
       "      <td>BLOCK INC</td>\n",
       "      <td>XYZ</td>\n",
       "      <td>852234103</td>\n",
       "      <td>2,077,212</td>\n",
       "      <td>$120,831,422.04</td>\n",
       "      <td>0.0203</td>\n",
       "    </tr>\n",
       "    <tr>\n",
       "      <th>14</th>\n",
       "      <td>05/14/2025</td>\n",
       "      <td>ARKK</td>\n",
       "      <td>PAGERDUTY INC</td>\n",
       "      <td>PD</td>\n",
       "      <td>69553P100</td>\n",
       "      <td>6,893,374</td>\n",
       "      <td>$117,187,358.00</td>\n",
       "      <td>0.0197</td>\n",
       "    </tr>\n",
       "    <tr>\n",
       "      <th>15</th>\n",
       "      <td>05/14/2025</td>\n",
       "      <td>ARKK</td>\n",
       "      <td>ADVANCED MICRO DEVICES</td>\n",
       "      <td>AMD</td>\n",
       "      <td>007903107</td>\n",
       "      <td>1,014,044</td>\n",
       "      <td>$114,039,388.24</td>\n",
       "      <td>0.0192</td>\n",
       "    </tr>\n",
       "    <tr>\n",
       "      <th>16</th>\n",
       "      <td>05/14/2025</td>\n",
       "      <td>ARKK</td>\n",
       "      <td>DRAFTKINGS INC-CL A</td>\n",
       "      <td>DKNG UW</td>\n",
       "      <td>26142V105</td>\n",
       "      <td>2,911,216</td>\n",
       "      <td>$109,694,618.88</td>\n",
       "      <td>0.0184</td>\n",
       "    </tr>\n",
       "    <tr>\n",
       "      <th>17</th>\n",
       "      <td>05/14/2025</td>\n",
       "      <td>ARKK</td>\n",
       "      <td>BEAM THERAPEUTICS INC</td>\n",
       "      <td>BEAM</td>\n",
       "      <td>07373V105</td>\n",
       "      <td>5,917,748</td>\n",
       "      <td>$106,815,351.40</td>\n",
       "      <td>0.0180</td>\n",
       "    </tr>\n",
       "    <tr>\n",
       "      <th>18</th>\n",
       "      <td>05/14/2025</td>\n",
       "      <td>ARKK</td>\n",
       "      <td>GITLAB INC-CL A</td>\n",
       "      <td>GTLB</td>\n",
       "      <td>37637K108</td>\n",
       "      <td>2,001,254</td>\n",
       "      <td>$106,786,913.44</td>\n",
       "      <td>0.0179</td>\n",
       "    </tr>\n",
       "    <tr>\n",
       "      <th>19</th>\n",
       "      <td>05/14/2025</td>\n",
       "      <td>ARKK</td>\n",
       "      <td>TERADYNE INC</td>\n",
       "      <td>TER</td>\n",
       "      <td>880770102</td>\n",
       "      <td>1,134,471</td>\n",
       "      <td>$96,316,587.90</td>\n",
       "      <td>0.0162</td>\n",
       "    </tr>\n",
       "    <tr>\n",
       "      <th>20</th>\n",
       "      <td>05/14/2025</td>\n",
       "      <td>ARKK</td>\n",
       "      <td>10X GENOMICS INC-CLASS A</td>\n",
       "      <td>TXG</td>\n",
       "      <td>88025U109</td>\n",
       "      <td>9,200,531</td>\n",
       "      <td>$88,785,124.15</td>\n",
       "      <td>0.0149</td>\n",
       "    </tr>\n",
       "    <tr>\n",
       "      <th>21</th>\n",
       "      <td>05/14/2025</td>\n",
       "      <td>ARKK</td>\n",
       "      <td>RECURSION PHARMACEUTICALS-A</td>\n",
       "      <td>RXRX</td>\n",
       "      <td>75629V104</td>\n",
       "      <td>19,361,691</td>\n",
       "      <td>$87,321,226.41</td>\n",
       "      <td>0.0147</td>\n",
       "    </tr>\n",
       "    <tr>\n",
       "      <th>22</th>\n",
       "      <td>05/14/2025</td>\n",
       "      <td>ARKK</td>\n",
       "      <td>TRADE DESK INC/THE -CLASS A</td>\n",
       "      <td>TTD</td>\n",
       "      <td>88339J105</td>\n",
       "      <td>1,098,177</td>\n",
       "      <td>$85,811,550.78</td>\n",
       "      <td>0.0144</td>\n",
       "    </tr>\n",
       "    <tr>\n",
       "      <th>23</th>\n",
       "      <td>05/14/2025</td>\n",
       "      <td>ARKK</td>\n",
       "      <td>NATERA INC</td>\n",
       "      <td>NTRA</td>\n",
       "      <td>632307104</td>\n",
       "      <td>555,174</td>\n",
       "      <td>$84,541,896.72</td>\n",
       "      <td>0.0142</td>\n",
       "    </tr>\n",
       "    <tr>\n",
       "      <th>24</th>\n",
       "      <td>05/14/2025</td>\n",
       "      <td>ARKK</td>\n",
       "      <td>PINTEREST INC- CLASS A</td>\n",
       "      <td>PINS</td>\n",
       "      <td>72352L106</td>\n",
       "      <td>2,301,664</td>\n",
       "      <td>$75,793,795.52</td>\n",
       "      <td>0.0127</td>\n",
       "    </tr>\n",
       "    <tr>\n",
       "      <th>25</th>\n",
       "      <td>05/14/2025</td>\n",
       "      <td>ARKK</td>\n",
       "      <td>INTELLIA THERAPEUTICS INC</td>\n",
       "      <td>NTLA</td>\n",
       "      <td>45826J105</td>\n",
       "      <td>8,806,271</td>\n",
       "      <td>$73,268,174.72</td>\n",
       "      <td>0.0123</td>\n",
       "    </tr>\n",
       "    <tr>\n",
       "      <th>26</th>\n",
       "      <td>05/14/2025</td>\n",
       "      <td>ARKK</td>\n",
       "      <td>ILLUMINA INC</td>\n",
       "      <td>ILMN</td>\n",
       "      <td>452327109</td>\n",
       "      <td>796,292</td>\n",
       "      <td>$63,942,247.60</td>\n",
       "      <td>0.0107</td>\n",
       "    </tr>\n",
       "    <tr>\n",
       "      <th>27</th>\n",
       "      <td>05/14/2025</td>\n",
       "      <td>ARKK</td>\n",
       "      <td>DEERE &amp; CO</td>\n",
       "      <td>DE</td>\n",
       "      <td>244199105</td>\n",
       "      <td>121,798</td>\n",
       "      <td>$60,724,828.86</td>\n",
       "      <td>0.0102</td>\n",
       "    </tr>\n",
       "    <tr>\n",
       "      <th>28</th>\n",
       "      <td>05/14/2025</td>\n",
       "      <td>ARKK</td>\n",
       "      <td>IRIDIUM COMMUNICATIONS INC</td>\n",
       "      <td>IRDM</td>\n",
       "      <td>46269C102</td>\n",
       "      <td>2,352,715</td>\n",
       "      <td>$60,370,666.90</td>\n",
       "      <td>0.0101</td>\n",
       "    </tr>\n",
       "    <tr>\n",
       "      <th>29</th>\n",
       "      <td>05/14/2025</td>\n",
       "      <td>ARKK</td>\n",
       "      <td>VERACYTE INC</td>\n",
       "      <td>VCYT</td>\n",
       "      <td>92337F107</td>\n",
       "      <td>1,965,822</td>\n",
       "      <td>$57,618,242.82</td>\n",
       "      <td>0.0097</td>\n",
       "    </tr>\n",
       "    <tr>\n",
       "      <th>30</th>\n",
       "      <td>05/14/2025</td>\n",
       "      <td>ARKK</td>\n",
       "      <td>NVIDIA CORP</td>\n",
       "      <td>NVDA</td>\n",
       "      <td>67066G104</td>\n",
       "      <td>395,303</td>\n",
       "      <td>$51,361,718.79</td>\n",
       "      <td>0.0086</td>\n",
       "    </tr>\n",
       "    <tr>\n",
       "      <th>31</th>\n",
       "      <td>05/14/2025</td>\n",
       "      <td>ARKK</td>\n",
       "      <td>GUARDANT HEALTH INC</td>\n",
       "      <td>GH</td>\n",
       "      <td>40131M109</td>\n",
       "      <td>802,813</td>\n",
       "      <td>$33,204,345.68</td>\n",
       "      <td>0.0056</td>\n",
       "    </tr>\n",
       "    <tr>\n",
       "      <th>32</th>\n",
       "      <td>05/14/2025</td>\n",
       "      <td>ARKK</td>\n",
       "      <td>PACIFIC BIOSCIENCES OF CALIF</td>\n",
       "      <td>PACB</td>\n",
       "      <td>69404D108</td>\n",
       "      <td>23,244,736</td>\n",
       "      <td>$26,731,446.40</td>\n",
       "      <td>0.0045</td>\n",
       "    </tr>\n",
       "    <tr>\n",
       "      <th>33</th>\n",
       "      <td>05/14/2025</td>\n",
       "      <td>ARKK</td>\n",
       "      <td>CERUS CORP</td>\n",
       "      <td>CERS</td>\n",
       "      <td>157085101</td>\n",
       "      <td>11,307,350</td>\n",
       "      <td>$14,812,628.50</td>\n",
       "      <td>0.0025</td>\n",
       "    </tr>\n",
       "    <tr>\n",
       "      <th>35</th>\n",
       "      <td>05/14/2025</td>\n",
       "      <td>ARKK</td>\n",
       "      <td>SOFI TECHNOLOGIES INC</td>\n",
       "      <td>SOFI</td>\n",
       "      <td>83406F102</td>\n",
       "      <td>112,976</td>\n",
       "      <td>$1,614,427.04</td>\n",
       "      <td>0.0003</td>\n",
       "    </tr>\n",
       "  </tbody>\n",
       "</table>\n",
       "</div>"
      ],
      "text/plain": [
       "          date  fund                       company   ticker      cusip  \\\n",
       "0   05/14/2025  ARKK                     TESLA INC     TSLA  88160R101   \n",
       "1   05/14/2025  ARKK  COINBASE GLOBAL INC -CLASS A     COIN  19260Q107   \n",
       "2   05/14/2025  ARKK                      ROKU INC     ROKU  77543R102   \n",
       "3   05/14/2025  ARKK          ROBLOX CORP -CLASS A     RBLX  771049103   \n",
       "4   05/14/2025  ARKK                 TEMPUS AI INC      TEM  88023B103   \n",
       "5   05/14/2025  ARKK   PALANTIR TECHNOLOGIES INC-A     PLTR  69608A108   \n",
       "6   05/14/2025  ARKK     ROBINHOOD MARKETS INC - A     HOOD  770700102   \n",
       "7   05/14/2025  ARKK         SHOPIFY INC - CLASS A     SHOP  82509L107   \n",
       "8   05/14/2025  ARKK        CRISPR THERAPEUTICS AG     CRSP  H17182108   \n",
       "9   05/14/2025  ARKK         ARCHER AVIATION INC-A     ACHR  03945R102   \n",
       "10  05/14/2025  ARKK    META PLATFORMS INC-CLASS A     META  30303M102   \n",
       "11  05/14/2025  ARKK                AMAZON.COM INC     AMZN  023135106   \n",
       "12  05/14/2025  ARKK         TWIST BIOSCIENCE CORP     TWST  90184D100   \n",
       "13  05/14/2025  ARKK                     BLOCK INC      XYZ  852234103   \n",
       "14  05/14/2025  ARKK                 PAGERDUTY INC       PD  69553P100   \n",
       "15  05/14/2025  ARKK        ADVANCED MICRO DEVICES      AMD  007903107   \n",
       "16  05/14/2025  ARKK           DRAFTKINGS INC-CL A  DKNG UW  26142V105   \n",
       "17  05/14/2025  ARKK         BEAM THERAPEUTICS INC     BEAM  07373V105   \n",
       "18  05/14/2025  ARKK               GITLAB INC-CL A     GTLB  37637K108   \n",
       "19  05/14/2025  ARKK                  TERADYNE INC      TER  880770102   \n",
       "20  05/14/2025  ARKK      10X GENOMICS INC-CLASS A      TXG  88025U109   \n",
       "21  05/14/2025  ARKK   RECURSION PHARMACEUTICALS-A     RXRX  75629V104   \n",
       "22  05/14/2025  ARKK   TRADE DESK INC/THE -CLASS A      TTD  88339J105   \n",
       "23  05/14/2025  ARKK                    NATERA INC     NTRA  632307104   \n",
       "24  05/14/2025  ARKK        PINTEREST INC- CLASS A     PINS  72352L106   \n",
       "25  05/14/2025  ARKK     INTELLIA THERAPEUTICS INC     NTLA  45826J105   \n",
       "26  05/14/2025  ARKK                  ILLUMINA INC     ILMN  452327109   \n",
       "27  05/14/2025  ARKK                    DEERE & CO       DE  244199105   \n",
       "28  05/14/2025  ARKK    IRIDIUM COMMUNICATIONS INC     IRDM  46269C102   \n",
       "29  05/14/2025  ARKK                  VERACYTE INC     VCYT  92337F107   \n",
       "30  05/14/2025  ARKK                   NVIDIA CORP     NVDA  67066G104   \n",
       "31  05/14/2025  ARKK           GUARDANT HEALTH INC       GH  40131M109   \n",
       "32  05/14/2025  ARKK  PACIFIC BIOSCIENCES OF CALIF     PACB  69404D108   \n",
       "33  05/14/2025  ARKK                    CERUS CORP     CERS  157085101   \n",
       "35  05/14/2025  ARKK         SOFI TECHNOLOGIES INC     SOFI  83406F102   \n",
       "\n",
       "        shares market value ($)  weight  \n",
       "0    2,236,468  $747,136,864.76  0.1256  \n",
       "1    2,055,170  $527,973,173.00  0.0887  \n",
       "2    6,287,334  $448,915,647.60  0.0755  \n",
       "3    5,729,978  $441,322,905.56  0.0742  \n",
       "4    5,283,141  $364,061,246.31  0.0612  \n",
       "5    2,672,586  $342,358,266.60  0.0575  \n",
       "6    4,870,036  $304,718,152.52  0.0512  \n",
       "7    2,729,354  $293,896,838.72  0.0494  \n",
       "8    6,940,182  $258,313,574.04  0.0434  \n",
       "9   16,105,839  $179,741,163.24  0.0302  \n",
       "10     210,009  $137,772,204.27  0.0232  \n",
       "11     604,192  $127,708,063.04  0.0215  \n",
       "12   3,845,530  $124,172,163.70  0.0209  \n",
       "13   2,077,212  $120,831,422.04  0.0203  \n",
       "14   6,893,374  $117,187,358.00  0.0197  \n",
       "15   1,014,044  $114,039,388.24  0.0192  \n",
       "16   2,911,216  $109,694,618.88  0.0184  \n",
       "17   5,917,748  $106,815,351.40  0.0180  \n",
       "18   2,001,254  $106,786,913.44  0.0179  \n",
       "19   1,134,471   $96,316,587.90  0.0162  \n",
       "20   9,200,531   $88,785,124.15  0.0149  \n",
       "21  19,361,691   $87,321,226.41  0.0147  \n",
       "22   1,098,177   $85,811,550.78  0.0144  \n",
       "23     555,174   $84,541,896.72  0.0142  \n",
       "24   2,301,664   $75,793,795.52  0.0127  \n",
       "25   8,806,271   $73,268,174.72  0.0123  \n",
       "26     796,292   $63,942,247.60  0.0107  \n",
       "27     121,798   $60,724,828.86  0.0102  \n",
       "28   2,352,715   $60,370,666.90  0.0101  \n",
       "29   1,965,822   $57,618,242.82  0.0097  \n",
       "30     395,303   $51,361,718.79  0.0086  \n",
       "31     802,813   $33,204,345.68  0.0056  \n",
       "32  23,244,736   $26,731,446.40  0.0045  \n",
       "33  11,307,350   $14,812,628.50  0.0025  \n",
       "35     112,976    $1,614,427.04  0.0003  "
      ]
     },
     "execution_count": 9,
     "metadata": {},
     "output_type": "execute_result"
    }
   ],
   "source": [
    "holdings = pd.read_csv('./data/holdings.csv').dropna()\n",
    "holdings['weight (%)'] = holdings ['weight (%)'].str.rstrip('%').astype(float) / 100\n",
    "holdings = holdings.rename(columns={'weight (%)': 'weight'})\n",
    "holdings"
   ]
  },
  {
   "cell_type": "markdown",
   "metadata": {
    "cell_id": "71ee7bfca69a4b979504d6bb0dbaa6c4",
    "deepnote_cell_type": "markdown"
   },
   "source": [
    "### Load Ark Returns Series ###\n",
    "We get the prices on Ark over time from yahoo finance. We use close prices and convert to a returns series."
   ]
  },
  {
   "cell_type": "code",
   "execution_count": 10,
   "metadata": {
    "cell_id": "1d4f42d128e94dc0ab85a8fb73d0ee9f",
    "deepnote_cell_type": "code",
    "execution_context_id": "04b5c186-7165-4dc0-9cc1-f9cc42a58673",
    "execution_millis": 182,
    "execution_start": 1747515265827,
    "source_hash": "f8545256"
   },
   "outputs": [
    {
     "name": "stderr",
     "output_type": "stream",
     "text": [
      "[*********************100%***********************]  1 of 1 completed\n",
      "\n",
      "1 Failed download:\n",
      "['ARKK']: YFRateLimitError('Too Many Requests. Rate limited. Try after a while.')\n"
     ]
    }
   ],
   "source": [
    "arkData = yf.download(\"ARKK\", start=\"2014-10-31\", end=\"2024-12-31\")['Close', 'ARKK']\n",
    "arkRets = arkData.pct_change().dropna()\n",
    "arkRets.name = 'Ark'\n",
    "arkRets.to_csv('./data/ark.csv')\n"
   ]
  },
  {
   "cell_type": "markdown",
   "metadata": {
    "cell_id": "538a60164dbd479e8a465c5c0544104b",
    "deepnote_cell_type": "markdown"
   },
   "source": [
    "### Load Price Series for all Current Ark Holdings ###\n",
    "We collect historical price series data for the returns on each of Ark's current assets. Note that the NaN values are because the asset wasn't public yet."
   ]
  },
  {
   "cell_type": "code",
   "execution_count": 11,
   "metadata": {
    "cell_id": "ab238619abfc47e5addc3b97725ad20d",
    "deepnote_cell_type": "code",
    "execution_context_id": "04b5c186-7165-4dc0-9cc1-f9cc42a58673",
    "execution_millis": 3604,
    "execution_start": 1747515197468,
    "source_hash": "ec1a9b9d"
   },
   "outputs": [
    {
     "name": "stderr",
     "output_type": "stream",
     "text": [
      "[*********************100%***********************]  35 of 35 completed\n",
      "\n",
      "35 Failed downloads:\n",
      "['GH', 'ROKU', 'RBLX', 'PACB', 'BEAM', 'NTRA', 'NTLA', 'RXRX', 'TXG', 'XYZ', 'TWST', 'PLTR', 'AMD', 'META', 'PINS', 'HOOD', 'GTLB', 'CERS', 'DE', 'SOFI', 'CRSP', 'NVDA', 'SHOP', 'ACHR', 'VCYT', 'IRDM', 'AMZN', 'TTD', 'DKNG UW', 'TEM', 'PD', 'COIN', 'TSLA', 'TER', 'ILMN']: YFRateLimitError('Too Many Requests. Rate limited. Try after a while.')\n"
     ]
    },
    {
     "data": {
      "application/vnd.microsoft.datawrangler.viewer.v0+json": {
       "columns": [
        {
         "name": "Date",
         "rawType": "datetime64[ns]",
         "type": "datetime"
        },
        {
         "name": "ACHR",
         "rawType": "float64",
         "type": "float"
        },
        {
         "name": "AMD",
         "rawType": "float64",
         "type": "float"
        },
        {
         "name": "AMZN",
         "rawType": "float64",
         "type": "float"
        },
        {
         "name": "BEAM",
         "rawType": "float64",
         "type": "float"
        },
        {
         "name": "CERS",
         "rawType": "float64",
         "type": "float"
        },
        {
         "name": "COIN",
         "rawType": "float64",
         "type": "float"
        },
        {
         "name": "CRSP",
         "rawType": "float64",
         "type": "float"
        },
        {
         "name": "DE",
         "rawType": "float64",
         "type": "float"
        },
        {
         "name": "GH",
         "rawType": "float64",
         "type": "float"
        },
        {
         "name": "GTLB",
         "rawType": "float64",
         "type": "float"
        },
        {
         "name": "HOOD",
         "rawType": "float64",
         "type": "float"
        },
        {
         "name": "ILMN",
         "rawType": "float64",
         "type": "float"
        },
        {
         "name": "IRDM",
         "rawType": "float64",
         "type": "float"
        },
        {
         "name": "META",
         "rawType": "float64",
         "type": "float"
        },
        {
         "name": "NTLA",
         "rawType": "float64",
         "type": "float"
        },
        {
         "name": "NTRA",
         "rawType": "float64",
         "type": "float"
        },
        {
         "name": "NVDA",
         "rawType": "float64",
         "type": "float"
        },
        {
         "name": "PACB",
         "rawType": "float64",
         "type": "float"
        },
        {
         "name": "PD",
         "rawType": "float64",
         "type": "float"
        },
        {
         "name": "PINS",
         "rawType": "float64",
         "type": "float"
        },
        {
         "name": "PLTR",
         "rawType": "float64",
         "type": "float"
        },
        {
         "name": "RBLX",
         "rawType": "float64",
         "type": "float"
        },
        {
         "name": "ROKU",
         "rawType": "float64",
         "type": "float"
        },
        {
         "name": "RXRX",
         "rawType": "float64",
         "type": "float"
        },
        {
         "name": "SHOP",
         "rawType": "float64",
         "type": "float"
        },
        {
         "name": "SOFI",
         "rawType": "float64",
         "type": "float"
        },
        {
         "name": "TEM",
         "rawType": "float64",
         "type": "float"
        },
        {
         "name": "TER",
         "rawType": "float64",
         "type": "float"
        },
        {
         "name": "TSLA",
         "rawType": "float64",
         "type": "float"
        },
        {
         "name": "TTD",
         "rawType": "float64",
         "type": "float"
        },
        {
         "name": "TWST",
         "rawType": "float64",
         "type": "float"
        },
        {
         "name": "TXG",
         "rawType": "float64",
         "type": "float"
        },
        {
         "name": "VCYT",
         "rawType": "float64",
         "type": "float"
        },
        {
         "name": "XYZ",
         "rawType": "float64",
         "type": "float"
        }
       ],
       "conversionMethod": "pd.DataFrame",
       "ref": "025c3859-3776-43d1-b62c-d12ca2951d1e",
       "rows": [],
       "shape": {
        "columns": 34,
        "rows": 0
       }
      },
      "text/html": [
       "<div>\n",
       "<style scoped>\n",
       "    .dataframe tbody tr th:only-of-type {\n",
       "        vertical-align: middle;\n",
       "    }\n",
       "\n",
       "    .dataframe tbody tr th {\n",
       "        vertical-align: top;\n",
       "    }\n",
       "\n",
       "    .dataframe thead th {\n",
       "        text-align: right;\n",
       "    }\n",
       "</style>\n",
       "<table border=\"1\" class=\"dataframe\">\n",
       "  <thead>\n",
       "    <tr style=\"text-align: right;\">\n",
       "      <th>Ticker</th>\n",
       "      <th>ACHR</th>\n",
       "      <th>AMD</th>\n",
       "      <th>AMZN</th>\n",
       "      <th>BEAM</th>\n",
       "      <th>CERS</th>\n",
       "      <th>COIN</th>\n",
       "      <th>CRSP</th>\n",
       "      <th>DE</th>\n",
       "      <th>GH</th>\n",
       "      <th>GTLB</th>\n",
       "      <th>...</th>\n",
       "      <th>SHOP</th>\n",
       "      <th>SOFI</th>\n",
       "      <th>TEM</th>\n",
       "      <th>TER</th>\n",
       "      <th>TSLA</th>\n",
       "      <th>TTD</th>\n",
       "      <th>TWST</th>\n",
       "      <th>TXG</th>\n",
       "      <th>VCYT</th>\n",
       "      <th>XYZ</th>\n",
       "    </tr>\n",
       "    <tr>\n",
       "      <th>Date</th>\n",
       "      <th></th>\n",
       "      <th></th>\n",
       "      <th></th>\n",
       "      <th></th>\n",
       "      <th></th>\n",
       "      <th></th>\n",
       "      <th></th>\n",
       "      <th></th>\n",
       "      <th></th>\n",
       "      <th></th>\n",
       "      <th></th>\n",
       "      <th></th>\n",
       "      <th></th>\n",
       "      <th></th>\n",
       "      <th></th>\n",
       "      <th></th>\n",
       "      <th></th>\n",
       "      <th></th>\n",
       "      <th></th>\n",
       "      <th></th>\n",
       "      <th></th>\n",
       "    </tr>\n",
       "  </thead>\n",
       "  <tbody>\n",
       "  </tbody>\n",
       "</table>\n",
       "<p>0 rows × 34 columns</p>\n",
       "</div>"
      ],
      "text/plain": [
       "Empty DataFrame\n",
       "Columns: [ACHR, AMD, AMZN, BEAM, CERS, COIN, CRSP, DE, GH, GTLB, HOOD, ILMN, IRDM, META, NTLA, NTRA, NVDA, PACB, PD, PINS, PLTR, RBLX, ROKU, RXRX, SHOP, SOFI, TEM, TER, TSLA, TTD, TWST, TXG, VCYT, XYZ]\n",
       "Index: []\n",
       "\n",
       "[0 rows x 34 columns]"
      ]
     },
     "execution_count": 11,
     "metadata": {},
     "output_type": "execute_result"
    }
   ],
   "source": [
    "tickers = holdings['ticker'].tolist()\n",
    "tickerPrices = yf.download(tickers, start=\"2014-10-31\")[\"Close\"]\n",
    "tickerRets = tickerPrices.pct_change().drop(columns = ['DKNG UW']).dropna(how='all', axis=0)\n",
    "tickerRets"
   ]
  },
  {
   "cell_type": "markdown",
   "metadata": {
    "cell_id": "bba98758be274be88f6a6572776ff3ed",
    "deepnote_cell_type": "markdown"
   },
   "source": [
    "### Construct Historical Returns Series for Ark's Current Portfolio  ###\n",
    "First, we create a dataframe of asset weights over time. We can't just use the constant weights from today because many of the assets in today's Ark holdings only became public after Ark's inception. To deal with this, we renormalize portfolio weights at each time by adding weight to the existing assets such that the sum of asset weights at any time is 1. Thus we have a series of portfolio weights that approximates Ark's current portfolio."
   ]
  },
  {
   "cell_type": "code",
   "execution_count": 12,
   "metadata": {
    "cell_id": "055c58a027764d3781c76c1a5b79c893",
    "deepnote_cell_type": "code",
    "deepnote_table_loading": false,
    "deepnote_table_state": {
     "cellFormattingRules": [],
     "columnDisplayNames": [],
     "columnOrder": [
      "TSLA",
      "COIN",
      "ROKU",
      "RBLX",
      "TEM",
      "PLTR",
      "HOOD",
      "SHOP",
      "CRSP",
      "ACHR",
      "META",
      "AMZN",
      "TWST",
      "XYZ",
      "PD",
      "AMD",
      "BEAM",
      "GTLB",
      "TER",
      "TXG",
      "RXRX",
      "TTD",
      "NTRA",
      "PINS",
      "NTLA",
      "ILMN",
      "DE",
      "IRDM",
      "VCYT",
      "NVDA",
      "GH",
      "PACB",
      "CERS",
      "SOFI"
     ],
     "conditionalFilters": [],
     "filters": [],
     "hiddenColumnIds": [],
     "pageIndex": 189,
     "pageSize": 10,
     "sortBy": [],
     "wrappedTextColumnIds": []
    },
    "execution_context_id": "04b5c186-7165-4dc0-9cc1-f9cc42a58673",
    "execution_millis": 777,
    "execution_start": 1747515201126,
    "source_hash": "5cb8417"
   },
   "outputs": [
    {
     "data": {
      "application/vnd.microsoft.datawrangler.viewer.v0+json": {
       "columns": [
        {
         "name": "Date",
         "rawType": "datetime64[ns]",
         "type": "datetime"
        }
       ],
       "conversionMethod": "pd.DataFrame",
       "ref": "ead6e01a-3777-4dcd-8d98-a3f87a52372d",
       "rows": [],
       "shape": {
        "columns": 0,
        "rows": 0
       }
      },
      "text/html": [
       "<div>\n",
       "<style scoped>\n",
       "    .dataframe tbody tr th:only-of-type {\n",
       "        vertical-align: middle;\n",
       "    }\n",
       "\n",
       "    .dataframe tbody tr th {\n",
       "        vertical-align: top;\n",
       "    }\n",
       "\n",
       "    .dataframe thead th {\n",
       "        text-align: right;\n",
       "    }\n",
       "</style>\n",
       "<table border=\"1\" class=\"dataframe\">\n",
       "  <thead>\n",
       "    <tr style=\"text-align: right;\">\n",
       "      <th></th>\n",
       "    </tr>\n",
       "    <tr>\n",
       "      <th>Date</th>\n",
       "    </tr>\n",
       "  </thead>\n",
       "  <tbody>\n",
       "  </tbody>\n",
       "</table>\n",
       "</div>"
      ],
      "text/plain": [
       "Empty DataFrame\n",
       "Columns: []\n",
       "Index: []"
      ]
     },
     "execution_count": 12,
     "metadata": {},
     "output_type": "execute_result"
    }
   ],
   "source": [
    "weights_dict = {}\n",
    "for t, w in zip(holdings['ticker'], holdings['weight']):\n",
    "    if t == 'DKNG UW':\n",
    "        continue\n",
    "    else:\n",
    "        weights_dict[t] = w\n",
    "\n",
    "weights_df = pd.DataFrame([weights_dict] * len(tickerRets), index=tickerRets.index)\n",
    "weights_df = weights_df.mask(tickerRets.isna(), 0)\n",
    "weights_df = weights_df.div(weights_df.sum(axis=1), axis=0).dropna(how='all', axis=0)\n",
    "weights_df.to_csv(\"data/weights.csv\")\n",
    "weights_df"
   ]
  },
  {
   "cell_type": "markdown",
   "metadata": {
    "cell_id": "f3dc665f12674b9a9396ce61abff8344",
    "deepnote_cell_type": "markdown"
   },
   "source": [
    "Now we have both the weights series and returns series by asset. To get the portfolio returns series, we just take the inner product weights * returns at each time. From now on we will refer to the synthetic portfolio defined by the weights series as \"Synthetic Ark.\" The returns on synthetic Ark approximate the historical returns of a hypothetical portfolio consisting of Ark's current holdings.\n",
    "\n"
   ]
  },
  {
   "cell_type": "code",
   "execution_count": 13,
   "metadata": {
    "cell_id": "6fb639458e0c47128bb8cd0127bf4f72",
    "deepnote_cell_type": "code",
    "execution_context_id": "04b5c186-7165-4dc0-9cc1-f9cc42a58673",
    "execution_millis": 1,
    "execution_start": 1747515201955,
    "source_hash": "4544106e"
   },
   "outputs": [],
   "source": [
    "syntheticArk = (weights_df * tickerRets).sum(axis=1)"
   ]
  },
  {
   "cell_type": "markdown",
   "metadata": {
    "cell_id": "339c569d863240889e0d1addf6005581",
    "deepnote_cell_type": "markdown"
   },
   "source": [
    "### Load Macro Assets Data ###\n",
    "\n",
    "Getting daily series, and only the US-relevant macro assets."
   ]
  },
  {
   "cell_type": "code",
   "execution_count": 14,
   "metadata": {
    "cell_id": "cda665b0633f4b74856caacc6d3720e4",
    "deepnote_cell_type": "code",
    "execution_context_id": "04b5c186-7165-4dc0-9cc1-f9cc42a58673",
    "execution_millis": 1540,
    "execution_start": 1747515202015,
    "source_hash": "f3cc8060"
   },
   "outputs": [
    {
     "ename": "YFRateLimitError",
     "evalue": "Too Many Requests. Rate limited. Try after a while.",
     "output_type": "error",
     "traceback": [
      "\u001b[31m---------------------------------------------------------------------------\u001b[39m",
      "\u001b[31mYFRateLimitError\u001b[39m                          Traceback (most recent call last)",
      "\u001b[36mCell\u001b[39m\u001b[36m \u001b[39m\u001b[32mIn[14]\u001b[39m\u001b[32m, line 9\u001b[39m\n\u001b[32m      6\u001b[39m dfs_full = {}\n\u001b[32m      8\u001b[39m \u001b[38;5;28;01mfor\u001b[39;00m ticker \u001b[38;5;129;01min\u001b[39;00m tickers: \n\u001b[32m----> \u001b[39m\u001b[32m9\u001b[39m     prices = \u001b[43myf\u001b[49m\u001b[43m.\u001b[49m\u001b[43mTicker\u001b[49m\u001b[43m(\u001b[49m\u001b[43mticker\u001b[49m\u001b[43m)\u001b[49m\u001b[43m.\u001b[49m\u001b[43mhistory\u001b[49m\u001b[43m(\u001b[49m\u001b[43mstart\u001b[49m\u001b[43m=\u001b[49m\u001b[43mstart_date\u001b[49m\u001b[43m,\u001b[49m\u001b[43m \u001b[49m\u001b[43mend\u001b[49m\u001b[43m=\u001b[49m\u001b[43mend_date\u001b[49m\u001b[43m,\u001b[49m\u001b[43m \u001b[49m\u001b[43mauto_adjust\u001b[49m\u001b[43m=\u001b[49m\u001b[38;5;28;43;01mTrue\u001b[39;49;00m\u001b[43m)\u001b[49m[\u001b[33m'\u001b[39m\u001b[33mClose\u001b[39m\u001b[33m'\u001b[39m]\n\u001b[32m     10\u001b[39m     rets = prices.pct_change()\n\u001b[32m     11\u001b[39m     dfs_full[ticker] = pd.DataFrame(index = rets.index, data ={\u001b[33m'\u001b[39m\u001b[33mReturn\u001b[39m\u001b[33m'\u001b[39m: rets}).dropna()\n",
      "\u001b[36mFile \u001b[39m\u001b[32m~/opt/anaconda3/envs/mf/lib/python3.11/site-packages/yfinance/utils.py:103\u001b[39m, in \u001b[36mlog_indent_decorator.<locals>.wrapper\u001b[39m\u001b[34m(*args, **kwargs)\u001b[39m\n\u001b[32m    100\u001b[39m logger.debug(\u001b[33mf\u001b[39m\u001b[33m'\u001b[39m\u001b[33mEntering \u001b[39m\u001b[38;5;132;01m{\u001b[39;00mfunc.\u001b[34m__name__\u001b[39m\u001b[38;5;132;01m}\u001b[39;00m\u001b[33m()\u001b[39m\u001b[33m'\u001b[39m)\n\u001b[32m    102\u001b[39m \u001b[38;5;28;01mwith\u001b[39;00m IndentationContext():\n\u001b[32m--> \u001b[39m\u001b[32m103\u001b[39m     result = \u001b[43mfunc\u001b[49m\u001b[43m(\u001b[49m\u001b[43m*\u001b[49m\u001b[43margs\u001b[49m\u001b[43m,\u001b[49m\u001b[43m \u001b[49m\u001b[43m*\u001b[49m\u001b[43m*\u001b[49m\u001b[43mkwargs\u001b[49m\u001b[43m)\u001b[49m\n\u001b[32m    105\u001b[39m logger.debug(\u001b[33mf\u001b[39m\u001b[33m'\u001b[39m\u001b[33mExiting \u001b[39m\u001b[38;5;132;01m{\u001b[39;00mfunc.\u001b[34m__name__\u001b[39m\u001b[38;5;132;01m}\u001b[39;00m\u001b[33m()\u001b[39m\u001b[33m'\u001b[39m)\n\u001b[32m    106\u001b[39m \u001b[38;5;28;01mreturn\u001b[39;00m result\n",
      "\u001b[36mFile \u001b[39m\u001b[32m~/opt/anaconda3/envs/mf/lib/python3.11/site-packages/yfinance/base.py:91\u001b[39m, in \u001b[36mTickerBase.history\u001b[39m\u001b[34m(self, *args, **kwargs)\u001b[39m\n\u001b[32m     89\u001b[39m \u001b[38;5;129m@utils\u001b[39m.log_indent_decorator\n\u001b[32m     90\u001b[39m \u001b[38;5;28;01mdef\u001b[39;00m\u001b[38;5;250m \u001b[39m\u001b[34mhistory\u001b[39m(\u001b[38;5;28mself\u001b[39m, *args, **kwargs) -> pd.DataFrame:\n\u001b[32m---> \u001b[39m\u001b[32m91\u001b[39m     \u001b[38;5;28;01mreturn\u001b[39;00m \u001b[38;5;28;43mself\u001b[39;49m\u001b[43m.\u001b[49m\u001b[43m_lazy_load_price_history\u001b[49m\u001b[43m(\u001b[49m\u001b[43m)\u001b[49m\u001b[43m.\u001b[49m\u001b[43mhistory\u001b[49m\u001b[43m(\u001b[49m\u001b[43m*\u001b[49m\u001b[43margs\u001b[49m\u001b[43m,\u001b[49m\u001b[43m \u001b[49m\u001b[43m*\u001b[49m\u001b[43m*\u001b[49m\u001b[43mkwargs\u001b[49m\u001b[43m)\u001b[49m\n",
      "\u001b[36mFile \u001b[39m\u001b[32m~/opt/anaconda3/envs/mf/lib/python3.11/site-packages/yfinance/utils.py:103\u001b[39m, in \u001b[36mlog_indent_decorator.<locals>.wrapper\u001b[39m\u001b[34m(*args, **kwargs)\u001b[39m\n\u001b[32m    100\u001b[39m logger.debug(\u001b[33mf\u001b[39m\u001b[33m'\u001b[39m\u001b[33mEntering \u001b[39m\u001b[38;5;132;01m{\u001b[39;00mfunc.\u001b[34m__name__\u001b[39m\u001b[38;5;132;01m}\u001b[39;00m\u001b[33m()\u001b[39m\u001b[33m'\u001b[39m)\n\u001b[32m    102\u001b[39m \u001b[38;5;28;01mwith\u001b[39;00m IndentationContext():\n\u001b[32m--> \u001b[39m\u001b[32m103\u001b[39m     result = \u001b[43mfunc\u001b[49m\u001b[43m(\u001b[49m\u001b[43m*\u001b[49m\u001b[43margs\u001b[49m\u001b[43m,\u001b[49m\u001b[43m \u001b[49m\u001b[43m*\u001b[49m\u001b[43m*\u001b[49m\u001b[43mkwargs\u001b[49m\u001b[43m)\u001b[49m\n\u001b[32m    105\u001b[39m logger.debug(\u001b[33mf\u001b[39m\u001b[33m'\u001b[39m\u001b[33mExiting \u001b[39m\u001b[38;5;132;01m{\u001b[39;00mfunc.\u001b[34m__name__\u001b[39m\u001b[38;5;132;01m}\u001b[39;00m\u001b[33m()\u001b[39m\u001b[33m'\u001b[39m)\n\u001b[32m    106\u001b[39m \u001b[38;5;28;01mreturn\u001b[39;00m result\n",
      "\u001b[36mFile \u001b[39m\u001b[32m~/opt/anaconda3/envs/mf/lib/python3.11/site-packages/yfinance/scrapers/history.py:178\u001b[39m, in \u001b[36mPriceHistory.history\u001b[39m\u001b[34m(self, period, interval, start, end, prepost, actions, auto_adjust, back_adjust, repair, keepna, proxy, rounding, timeout, raise_errors)\u001b[39m\n\u001b[32m    176\u001b[39m         get_fn = \u001b[38;5;28mself\u001b[39m._data.cache_get\n\u001b[32m    177\u001b[39m \u001b[38;5;28;01mtry\u001b[39;00m:\n\u001b[32m--> \u001b[39m\u001b[32m178\u001b[39m     data = \u001b[43mget_fn\u001b[49m\u001b[43m(\u001b[49m\n\u001b[32m    179\u001b[39m \u001b[43m        \u001b[49m\u001b[43murl\u001b[49m\u001b[43m=\u001b[49m\u001b[43murl\u001b[49m\u001b[43m,\u001b[49m\n\u001b[32m    180\u001b[39m \u001b[43m        \u001b[49m\u001b[43mparams\u001b[49m\u001b[43m=\u001b[49m\u001b[43mparams\u001b[49m\u001b[43m,\u001b[49m\n\u001b[32m    181\u001b[39m \u001b[43m        \u001b[49m\u001b[43mtimeout\u001b[49m\u001b[43m=\u001b[49m\u001b[43mtimeout\u001b[49m\n\u001b[32m    182\u001b[39m \u001b[43m    \u001b[49m\u001b[43m)\u001b[49m\n\u001b[32m    183\u001b[39m     \u001b[38;5;28;01mif\u001b[39;00m \u001b[33m\"\u001b[39m\u001b[33mWill be right back\u001b[39m\u001b[33m\"\u001b[39m \u001b[38;5;129;01min\u001b[39;00m data.text \u001b[38;5;129;01mor\u001b[39;00m data \u001b[38;5;129;01mis\u001b[39;00m \u001b[38;5;28;01mNone\u001b[39;00m:\n\u001b[32m    184\u001b[39m         \u001b[38;5;28;01mraise\u001b[39;00m \u001b[38;5;167;01mRuntimeError\u001b[39;00m(\u001b[33m\"\u001b[39m\u001b[33m*** YAHOO! FINANCE IS CURRENTLY DOWN! ***\u001b[39m\u001b[38;5;130;01m\\n\u001b[39;00m\u001b[33m\"\u001b[39m\n\u001b[32m    185\u001b[39m                            \u001b[33m\"\u001b[39m\u001b[33mOur engineers are working quickly to resolve \u001b[39m\u001b[33m\"\u001b[39m\n\u001b[32m    186\u001b[39m                            \u001b[33m\"\u001b[39m\u001b[33mthe issue. Thank you for your patience.\u001b[39m\u001b[33m\"\u001b[39m)\n",
      "\u001b[36mFile \u001b[39m\u001b[32m~/opt/anaconda3/envs/mf/lib/python3.11/site-packages/yfinance/data.py:32\u001b[39m, in \u001b[36mlru_cache_freezeargs.<locals>.wrapped\u001b[39m\u001b[34m(*args, **kwargs)\u001b[39m\n\u001b[32m     30\u001b[39m args = \u001b[38;5;28mtuple\u001b[39m([\u001b[38;5;28mtuple\u001b[39m(arg) \u001b[38;5;28;01mif\u001b[39;00m \u001b[38;5;28misinstance\u001b[39m(arg, \u001b[38;5;28mlist\u001b[39m) \u001b[38;5;28;01melse\u001b[39;00m arg \u001b[38;5;28;01mfor\u001b[39;00m arg \u001b[38;5;129;01min\u001b[39;00m args])\n\u001b[32m     31\u001b[39m kwargs = {k: \u001b[38;5;28mtuple\u001b[39m(v) \u001b[38;5;28;01mif\u001b[39;00m \u001b[38;5;28misinstance\u001b[39m(v, \u001b[38;5;28mlist\u001b[39m) \u001b[38;5;28;01melse\u001b[39;00m v \u001b[38;5;28;01mfor\u001b[39;00m k, v \u001b[38;5;129;01min\u001b[39;00m kwargs.items()}\n\u001b[32m---> \u001b[39m\u001b[32m32\u001b[39m \u001b[38;5;28;01mreturn\u001b[39;00m \u001b[43mfunc\u001b[49m\u001b[43m(\u001b[49m\u001b[43m*\u001b[49m\u001b[43margs\u001b[49m\u001b[43m,\u001b[49m\u001b[43m \u001b[49m\u001b[43m*\u001b[49m\u001b[43m*\u001b[49m\u001b[43mkwargs\u001b[49m\u001b[43m)\u001b[49m\n",
      "\u001b[36mFile \u001b[39m\u001b[32m~/opt/anaconda3/envs/mf/lib/python3.11/site-packages/yfinance/data.py:431\u001b[39m, in \u001b[36mYfData.cache_get\u001b[39m\u001b[34m(self, url, user_agent_headers, params, timeout)\u001b[39m\n\u001b[32m    428\u001b[39m \u001b[38;5;129m@lru_cache_freezeargs\u001b[39m\n\u001b[32m    429\u001b[39m \u001b[38;5;129m@lru_cache\u001b[39m(maxsize=cache_maxsize)\n\u001b[32m    430\u001b[39m \u001b[38;5;28;01mdef\u001b[39;00m\u001b[38;5;250m \u001b[39m\u001b[34mcache_get\u001b[39m(\u001b[38;5;28mself\u001b[39m, url, user_agent_headers=\u001b[38;5;28;01mNone\u001b[39;00m, params=\u001b[38;5;28;01mNone\u001b[39;00m, timeout=\u001b[32m30\u001b[39m):\n\u001b[32m--> \u001b[39m\u001b[32m431\u001b[39m     \u001b[38;5;28;01mreturn\u001b[39;00m \u001b[38;5;28;43mself\u001b[39;49m\u001b[43m.\u001b[49m\u001b[43mget\u001b[49m\u001b[43m(\u001b[49m\u001b[43murl\u001b[49m\u001b[43m,\u001b[49m\u001b[43m \u001b[49m\u001b[43muser_agent_headers\u001b[49m\u001b[43m,\u001b[49m\u001b[43m \u001b[49m\u001b[43mparams\u001b[49m\u001b[43m,\u001b[49m\u001b[43m \u001b[49m\u001b[43mtimeout\u001b[49m\u001b[43m)\u001b[49m\n",
      "\u001b[36mFile \u001b[39m\u001b[32m~/opt/anaconda3/envs/mf/lib/python3.11/site-packages/yfinance/utils.py:103\u001b[39m, in \u001b[36mlog_indent_decorator.<locals>.wrapper\u001b[39m\u001b[34m(*args, **kwargs)\u001b[39m\n\u001b[32m    100\u001b[39m logger.debug(\u001b[33mf\u001b[39m\u001b[33m'\u001b[39m\u001b[33mEntering \u001b[39m\u001b[38;5;132;01m{\u001b[39;00mfunc.\u001b[34m__name__\u001b[39m\u001b[38;5;132;01m}\u001b[39;00m\u001b[33m()\u001b[39m\u001b[33m'\u001b[39m)\n\u001b[32m    102\u001b[39m \u001b[38;5;28;01mwith\u001b[39;00m IndentationContext():\n\u001b[32m--> \u001b[39m\u001b[32m103\u001b[39m     result = \u001b[43mfunc\u001b[49m\u001b[43m(\u001b[49m\u001b[43m*\u001b[49m\u001b[43margs\u001b[49m\u001b[43m,\u001b[49m\u001b[43m \u001b[49m\u001b[43m*\u001b[49m\u001b[43m*\u001b[49m\u001b[43mkwargs\u001b[49m\u001b[43m)\u001b[49m\n\u001b[32m    105\u001b[39m logger.debug(\u001b[33mf\u001b[39m\u001b[33m'\u001b[39m\u001b[33mExiting \u001b[39m\u001b[38;5;132;01m{\u001b[39;00mfunc.\u001b[34m__name__\u001b[39m\u001b[38;5;132;01m}\u001b[39;00m\u001b[33m()\u001b[39m\u001b[33m'\u001b[39m)\n\u001b[32m    106\u001b[39m \u001b[38;5;28;01mreturn\u001b[39;00m result\n",
      "\u001b[36mFile \u001b[39m\u001b[32m~/opt/anaconda3/envs/mf/lib/python3.11/site-packages/yfinance/data.py:364\u001b[39m, in \u001b[36mYfData.get\u001b[39m\u001b[34m(self, url, user_agent_headers, params, timeout)\u001b[39m\n\u001b[32m    362\u001b[39m \u001b[38;5;129m@utils\u001b[39m.log_indent_decorator\n\u001b[32m    363\u001b[39m \u001b[38;5;28;01mdef\u001b[39;00m\u001b[38;5;250m \u001b[39m\u001b[34mget\u001b[39m(\u001b[38;5;28mself\u001b[39m, url, user_agent_headers=\u001b[38;5;28;01mNone\u001b[39;00m, params=\u001b[38;5;28;01mNone\u001b[39;00m, timeout=\u001b[32m30\u001b[39m):\n\u001b[32m--> \u001b[39m\u001b[32m364\u001b[39m     \u001b[38;5;28;01mreturn\u001b[39;00m \u001b[38;5;28;43mself\u001b[39;49m\u001b[43m.\u001b[49m\u001b[43m_make_request\u001b[49m\u001b[43m(\u001b[49m\u001b[43murl\u001b[49m\u001b[43m,\u001b[49m\u001b[43m \u001b[49m\u001b[43mrequest_method\u001b[49m\u001b[43m \u001b[49m\u001b[43m=\u001b[49m\u001b[43m \u001b[49m\u001b[38;5;28;43mself\u001b[39;49m\u001b[43m.\u001b[49m\u001b[43m_session\u001b[49m\u001b[43m.\u001b[49m\u001b[43mget\u001b[49m\u001b[43m,\u001b[49m\u001b[43m \u001b[49m\u001b[43muser_agent_headers\u001b[49m\u001b[43m=\u001b[49m\u001b[43muser_agent_headers\u001b[49m\u001b[43m,\u001b[49m\u001b[43m \u001b[49m\u001b[43mparams\u001b[49m\u001b[43m=\u001b[49m\u001b[43mparams\u001b[49m\u001b[43m,\u001b[49m\u001b[43m \u001b[49m\u001b[43mtimeout\u001b[49m\u001b[43m=\u001b[49m\u001b[43mtimeout\u001b[49m\u001b[43m)\u001b[49m\n",
      "\u001b[36mFile \u001b[39m\u001b[32m~/opt/anaconda3/envs/mf/lib/python3.11/site-packages/yfinance/utils.py:103\u001b[39m, in \u001b[36mlog_indent_decorator.<locals>.wrapper\u001b[39m\u001b[34m(*args, **kwargs)\u001b[39m\n\u001b[32m    100\u001b[39m logger.debug(\u001b[33mf\u001b[39m\u001b[33m'\u001b[39m\u001b[33mEntering \u001b[39m\u001b[38;5;132;01m{\u001b[39;00mfunc.\u001b[34m__name__\u001b[39m\u001b[38;5;132;01m}\u001b[39;00m\u001b[33m()\u001b[39m\u001b[33m'\u001b[39m)\n\u001b[32m    102\u001b[39m \u001b[38;5;28;01mwith\u001b[39;00m IndentationContext():\n\u001b[32m--> \u001b[39m\u001b[32m103\u001b[39m     result = \u001b[43mfunc\u001b[49m\u001b[43m(\u001b[49m\u001b[43m*\u001b[49m\u001b[43margs\u001b[49m\u001b[43m,\u001b[49m\u001b[43m \u001b[49m\u001b[43m*\u001b[49m\u001b[43m*\u001b[49m\u001b[43mkwargs\u001b[49m\u001b[43m)\u001b[49m\n\u001b[32m    105\u001b[39m logger.debug(\u001b[33mf\u001b[39m\u001b[33m'\u001b[39m\u001b[33mExiting \u001b[39m\u001b[38;5;132;01m{\u001b[39;00mfunc.\u001b[34m__name__\u001b[39m\u001b[38;5;132;01m}\u001b[39;00m\u001b[33m()\u001b[39m\u001b[33m'\u001b[39m)\n\u001b[32m    106\u001b[39m \u001b[38;5;28;01mreturn\u001b[39;00m result\n",
      "\u001b[36mFile \u001b[39m\u001b[32m~/opt/anaconda3/envs/mf/lib/python3.11/site-packages/yfinance/data.py:424\u001b[39m, in \u001b[36mYfData._make_request\u001b[39m\u001b[34m(self, url, request_method, user_agent_headers, body, params, timeout)\u001b[39m\n\u001b[32m    422\u001b[39m     \u001b[38;5;66;03m# Raise exception if rate limited\u001b[39;00m\n\u001b[32m    423\u001b[39m     \u001b[38;5;28;01mif\u001b[39;00m response.status_code == \u001b[32m429\u001b[39m:\n\u001b[32m--> \u001b[39m\u001b[32m424\u001b[39m         \u001b[38;5;28;01mraise\u001b[39;00m YFRateLimitError()\n\u001b[32m    426\u001b[39m \u001b[38;5;28;01mreturn\u001b[39;00m response\n",
      "\u001b[31mYFRateLimitError\u001b[39m: Too Many Requests. Rate limited. Try after a while."
     ]
    }
   ],
   "source": [
    "tickers = ['SPY', 'GD=F', 'HYG', 'GOLD', 'EURUSD=X', 'JPY=X']\n",
    "\n",
    "start_date = '2014-10-31'\n",
    "end_date = '2025-05-16'\n",
    "\n",
    "dfs_full = {}\n",
    "\n",
    "for ticker in tickers: \n",
    "    prices = yf.Ticker(ticker).history(start=start_date, end=end_date, auto_adjust=True)['Close']\n",
    "    rets = prices.pct_change()\n",
    "    dfs_full[ticker] = pd.DataFrame(index = rets.index, data ={'Return': rets}).dropna()\n",
    "\n",
    "\n",
    "tsy_series = pdr.FredReader('DGS10', start = start_date, end = end_date).read()/100\n",
    "D, C = 8,80\n",
    "delta_y = tsy_series.diff()\n",
    "tsy_price_ret = -D * delta_y + 0.5 * C * delta_y ** 2\n",
    "tsy_carry_ret = tsy_series/252\n",
    "tsy_ret = (tsy_carry_ret + tsy_price_ret).dropna()\n",
    "\n",
    "dfs_full['TSY']=pd.DataFrame(index = tsy_series.index, data ={'Return':  tsy_ret['DGS10']})\n",
    "\n",
    "for ticker in dfs_full:\n",
    "    dfs_full[ticker].index = dfs_full[ticker].index.tz_localize(None)\n",
    "\n",
    " "
   ]
  },
  {
   "cell_type": "code",
   "execution_count": null,
   "metadata": {
    "cell_id": "6ccbfdcccc874d03b79e854a2331872f",
    "deepnote_cell_type": "code",
    "execution_context_id": "04b5c186-7165-4dc0-9cc1-f9cc42a58673",
    "execution_millis": 528,
    "execution_start": 1747515203619,
    "source_hash": "43c1db83"
   },
   "outputs": [
    {
     "data": {
      "application/vnd.deepnote.dataframe.v3+json": {
       "column_count": 7,
       "columns": [
        {
         "dtype": "float64",
         "name": "SPY",
         "stats": {
          "histogram": [
           {
            "bin_end": -0.08797949289575119,
            "bin_start": -0.10942380342184721,
            "count": 2
           },
           {
            "bin_end": -0.06653518236965517,
            "bin_start": -0.08797949289575119,
            "count": 1
           },
           {
            "bin_end": -0.045090871843559144,
            "bin_start": -0.06653518236965517,
            "count": 5
           },
           {
            "bin_end": -0.02364656131746312,
            "bin_start": -0.045090871843559144,
            "count": 57
           },
           {
            "bin_end": -0.0022022507913670997,
            "bin_start": -0.02364656131746312,
            "count": 722
           },
           {
            "bin_end": 0.019242059734728922,
            "bin_start": -0.0022022507913670997,
            "count": 1648
           },
           {
            "bin_end": 0.040686370260824944,
            "bin_start": 0.019242059734728922,
            "count": 66
           },
           {
            "bin_end": 0.062130680786920967,
            "bin_start": 0.040686370260824944,
            "count": 6
           },
           {
            "bin_end": 0.08357499131301699,
            "bin_start": 0.062130680786920967,
            "count": 1
           },
           {
            "bin_end": 0.10501930183911301,
            "bin_start": 0.08357499131301699,
            "count": 3
           }
          ],
          "max": "0.10501930183911301",
          "min": "-0.10942380342184721",
          "nan_count": 0,
          "unique_count": 2507
         }
        },
        {
         "dtype": "float64",
         "name": "Commodities",
         "stats": {
          "histogram": [
           {
            "bin_end": -0.09994307024494054,
            "bin_start": -0.11981651662919379,
            "count": 2
           },
           {
            "bin_end": -0.08006962386068728,
            "bin_start": -0.09994307024494054,
            "count": 1
           },
           {
            "bin_end": -0.06019617747643402,
            "bin_start": -0.08006962386068728,
            "count": 2
           },
           {
            "bin_end": -0.040322731092180764,
            "bin_start": -0.06019617747643402,
            "count": 17
           },
           {
            "bin_end": -0.020449284707927506,
            "bin_start": -0.040322731092180764,
            "count": 123
           },
           {
            "bin_end": -0.0005758383236742493,
            "bin_start": -0.020449284707927506,
            "count": 955
           },
           {
            "bin_end": 0.019297608060579008,
            "bin_start": -0.0005758383236742493,
            "count": 1252
           },
           {
            "bin_end": 0.039171054444832265,
            "bin_start": 0.019297608060579008,
            "count": 138
           },
           {
            "bin_end": 0.05904450082908552,
            "bin_start": 0.039171054444832265,
            "count": 15
           },
           {
            "bin_end": 0.07891794721333878,
            "bin_start": 0.05904450082908552,
            "count": 6
           }
          ],
          "max": "0.07891794721333878",
          "min": "-0.11981651662919379",
          "nan_count": 0,
          "unique_count": 2481
         }
        },
        {
         "dtype": "float64",
         "name": "US HY",
         "stats": {
          "histogram": [
           {
            "bin_end": -0.04292323337036706,
            "bin_start": -0.05496575183592067,
            "count": 3
           },
           {
            "bin_end": -0.030880714904813457,
            "bin_start": -0.04292323337036706,
            "count": 2
           },
           {
            "bin_end": -0.018838196439259852,
            "bin_start": -0.030880714904813457,
            "count": 8
           },
           {
            "bin_end": -0.006795677973706241,
            "bin_start": -0.018838196439259852,
            "count": 127
           },
           {
            "bin_end": 0.005246840491847371,
            "bin_start": -0.006795677973706241,
            "count": 2124
           },
           {
            "bin_end": 0.01728935895740097,
            "bin_start": 0.005246840491847371,
            "count": 232
           },
           {
            "bin_end": 0.02933187742295458,
            "bin_start": 0.01728935895740097,
            "count": 10
           },
           {
            "bin_end": 0.04137439588850819,
            "bin_start": 0.02933187742295458,
            "count": 3
           },
           {
            "bin_end": 0.053416914354061804,
            "bin_start": 0.04137439588850819,
            "count": 1
           },
           {
            "bin_end": 0.06545943281961542,
            "bin_start": 0.053416914354061804,
            "count": 1
           }
          ],
          "max": "0.06545943281961542",
          "min": "-0.05496575183592067",
          "nan_count": 0,
          "unique_count": 2485
         }
        },
        {
         "dtype": "float64",
         "name": "GOLD",
         "stats": {
          "histogram": [
           {
            "bin_end": -0.12611685992562,
            "bin_start": -0.15699668562191216,
            "count": 1
           },
           {
            "bin_end": -0.09523703422932783,
            "bin_start": -0.12611685992562,
            "count": 6
           },
           {
            "bin_end": -0.06435720853303567,
            "bin_start": -0.09523703422932783,
            "count": 21
           },
           {
            "bin_end": -0.03347738283674351,
            "bin_start": -0.06435720853303567,
            "count": 135
           },
           {
            "bin_end": -0.0025975571404513453,
            "bin_start": -0.03347738283674351,
            "count": 956
           },
           {
            "bin_end": 0.028282268555840817,
            "bin_start": -0.0025975571404513453,
            "count": 1134
           },
           {
            "bin_end": 0.05916209425213298,
            "bin_start": 0.028282268555840817,
            "count": 206
           },
           {
            "bin_end": 0.09004191994842514,
            "bin_start": 0.05916209425213298,
            "count": 40
           },
           {
            "bin_end": 0.1209217456447173,
            "bin_start": 0.09004191994842514,
            "count": 10
           },
           {
            "bin_end": 0.15180157134100947,
            "bin_start": 0.1209217456447173,
            "count": 2
           }
          ],
          "max": "0.15180157134100947",
          "min": "-0.15699668562191216",
          "nan_count": 0,
          "unique_count": 2484
         }
        },
        {
         "dtype": "float64",
         "name": "EURUSD",
         "stats": {
          "histogram": [
           {
            "bin_end": -0.022122035645243277,
            "bin_start": -0.027751725571960706,
            "count": 4
           },
           {
            "bin_end": -0.01649234571852585,
            "bin_start": -0.022122035645243277,
            "count": 9
           },
           {
            "bin_end": -0.010862655791808416,
            "bin_start": -0.01649234571852585,
            "count": 35
           },
           {
            "bin_end": -0.005232965865090988,
            "bin_start": -0.010862655791808416,
            "count": 272
           },
           {
            "bin_end": 0.00039672406162644114,
            "bin_start": -0.005232965865090988,
            "count": 1035
           },
           {
            "bin_end": 0.006026413988343873,
            "bin_start": 0.00039672406162644114,
            "count": 906
           },
           {
            "bin_end": 0.011656103915061299,
            "bin_start": 0.006026413988343873,
            "count": 210
           },
           {
            "bin_end": 0.01728579384177873,
            "bin_start": 0.011656103915061299,
            "count": 32
           },
           {
            "bin_end": 0.022915483768496163,
            "bin_start": 0.01728579384177873,
            "count": 5
           },
           {
            "bin_end": 0.028545173695213588,
            "bin_start": 0.022915483768496163,
            "count": 3
           }
          ],
          "max": "0.028545173695213588",
          "min": "-0.027751725571960706",
          "nan_count": 0,
          "unique_count": 2503
         }
        },
        {
         "dtype": "float64",
         "name": "USDJPY",
         "stats": {
          "histogram": [
           {
            "bin_end": -0.030202607126180413,
            "bin_start": -0.03724951281473232,
            "count": 2
           },
           {
            "bin_end": -0.023155701437628507,
            "bin_start": -0.030202607126180413,
            "count": 4
           },
           {
            "bin_end": -0.0161087957490766,
            "bin_start": -0.023155701437628507,
            "count": 15
           },
           {
            "bin_end": -0.009061890060524692,
            "bin_start": -0.0161087957490766,
            "count": 109
           },
           {
            "bin_end": -0.0020149843719727834,
            "bin_start": -0.009061890060524692,
            "count": 640
           },
           {
            "bin_end": 0.005031921316579119,
            "bin_start": -0.0020149843719727834,
            "count": 1362
           },
           {
            "bin_end": 0.012078827005131028,
            "bin_start": 0.005031921316579119,
            "count": 322
           },
           {
            "bin_end": 0.019125732693682937,
            "bin_start": 0.012078827005131028,
            "count": 46
           },
           {
            "bin_end": 0.02617263838223484,
            "bin_start": 0.019125732693682937,
            "count": 9
           },
           {
            "bin_end": 0.033219544070786755,
            "bin_start": 0.02617263838223484,
            "count": 2
           }
          ],
          "max": "0.033219544070786755",
          "min": "-0.03724951281473232",
          "nan_count": 0,
          "unique_count": 2509
         }
        },
        {
         "dtype": "float64",
         "name": "US GOVT",
         "stats": {
          "histogram": [
           {
            "bin_end": -0.0180896526984127,
            "bin_start": -0.022823123809523813,
            "count": 2
           },
           {
            "bin_end": -0.013356181587301586,
            "bin_start": -0.0180896526984127,
            "count": 6
           },
           {
            "bin_end": -0.008622710476190471,
            "bin_start": -0.013356181587301586,
            "count": 55
           },
           {
            "bin_end": -0.0038892393650793583,
            "bin_start": -0.008622710476190471,
            "count": 329
           },
           {
            "bin_end": 0.0008442317460317546,
            "bin_start": -0.0038892393650793583,
            "count": 993
           },
           {
            "bin_end": 0.005577702857142871,
            "bin_start": 0.0008442317460317546,
            "count": 904
           },
           {
            "bin_end": 0.01031117396825398,
            "bin_start": 0.005577702857142871,
            "count": 184
           },
           {
            "bin_end": 0.015044645079365097,
            "bin_start": 0.01031117396825398,
            "count": 30
           },
           {
            "bin_end": 0.019778116190476213,
            "bin_start": 0.015044645079365097,
            "count": 6
           },
           {
            "bin_end": 0.024511587301587322,
            "bin_start": 0.019778116190476213,
            "count": 2
           }
          ],
          "max": "0.024511587301587322",
          "min": "-0.022823123809523813",
          "nan_count": 0,
          "unique_count": 2004
         }
        },
        {
         "dtype": "datetime64[ns]",
         "name": "_deepnote_index_column"
        }
       ],
       "row_count": 2511,
       "rows": [
        {
         "Commodities": 0.0253428301926506,
         "EURUSD": 0.004021387262654885,
         "GOLD": 0.008165818968261185,
         "SPY": 0.030986779385797858,
         "US GOVT": 0.0041536507936507415,
         "US HY": 0.021536738953200185,
         "USDJPY": -0.002050858206820383,
         "_deepnote_index_column": "2022-10-04 00:00:00"
        },
        {
         "Commodities": 0.018771998435666903,
         "EURUSD": 0.015485641697837949,
         "GOLD": -0.009345773104476485,
         "SPY": -0.002328353953968909,
         "US GOVT": -0.010972393650793584,
         "US HY": -0.0039445092564656115,
         "USDJPY": -0.005065040881316318,
         "_deepnote_index_column": "2022-10-05 00:00:00"
        },
        {
         "Commodities": 0.0037620149052304264,
         "EURUSD": -0.0073440755512070854,
         "GOLD": 0.015723447186641204,
         "SPY": -0.010315654154006482,
         "US GOVT": -0.0054284158730159215,
         "US HY": -0.0030035911715623476,
         "USDJPY": 0.004604050099620949,
         "_deepnote_index_column": "2022-10-06 00:00:00"
        },
        {
         "Commodities": 0.004130353612684656,
         "EURUSD": -0.012304863326973892,
         "GOLD": -0.0414861876827165,
         "SPY": -0.0278939203138322,
         "US GOVT": -0.0046312349206349464,
         "US HY": -0.01219050920324305,
         "USDJPY": 0.0040844610689572125,
         "_deepnote_index_column": "2022-10-07 00:00:00"
        },
        {
         "Commodities": -0.005514246336160933,
         "EURUSD": -0.0010184906511189196,
         "GOLD": 0.0033310140588089787,
         "SPY": -0.0032984115920960955,
         "US GOVT": 0.0017567587301587206,
         "US HY": 0.0016793187888066718,
         "USDJPY": 0.0013454641935264355,
         "_deepnote_index_column": "2022-10-12 00:00:00"
        },
        {
         "Commodities": 0.012938042994320442,
         "EURUSD": 0.000805816280401439,
         "GOLD": -0.025896446581115007,
         "SPY": 0.026390996998638894,
         "US GOVT": -0.004628060317460289,
         "US HY": 0.0022355643556919436,
         "USDJPY": 0.005943678779414041,
         "_deepnote_index_column": "2022-10-13 00:00:00"
        },
        {
         "Commodities": -0.022884586435671372,
         "EURUSD": 0.0044659963486877174,
         "GOLD": -0.03476485463025247,
         "SPY": -0.022788750145358416,
         "US GOVT": -0.0022376698412698544,
         "US HY": -0.0032059971498549222,
         "USDJPY": 0.003789090397851469,
         "_deepnote_index_column": "2022-10-14 00:00:00"
        },
        {
         "Commodities": -0.0029256223999981623,
         "EURUSD": -0.0012270756894514623,
         "GOLD": 0.03177965843388142,
         "SPY": 0.025697065650268858,
         "US GOVT": -0.0014388761904761255,
         "US HY": 0.01230593562275728,
         "USDJPY": 0.009090754640477261,
         "_deepnote_index_column": "2022-10-17 00:00:00"
        },
        {
         "Commodities": -0.020164788832753078,
         "EURUSD": 0.010988583263886964,
         "GOLD": 0.01232035537519005,
         "SPY": 0.011749638135521101,
         "US GOVT": 0.0009595269841269515,
         "US HY": 0.007045564136493043,
         "USDJPY": 0.002280728572459534,
         "_deepnote_index_column": "2022-10-18 00:00:00"
        },
        {
         "Commodities": -0.007884696246065581,
         "EURUSD": 0.001775476176293811,
         "GOLD": -0.022988433137785202,
         "SPY": -0.007086535352808232,
         "US GOVT": -0.010168114285714305,
         "US HY": -0.00960267915057611,
         "USDJPY": 0.0015976707071407859,
         "_deepnote_index_column": "2022-10-19 00:00:00"
        }
       ],
       "type": "dataframe"
      },
      "text/html": [
       "<div>\n",
       "<style scoped>\n",
       "    .dataframe tbody tr th:only-of-type {\n",
       "        vertical-align: middle;\n",
       "    }\n",
       "\n",
       "    .dataframe tbody tr th {\n",
       "        vertical-align: top;\n",
       "    }\n",
       "\n",
       "    .dataframe thead th {\n",
       "        text-align: right;\n",
       "    }\n",
       "</style>\n",
       "<table border=\"1\" class=\"dataframe\">\n",
       "  <thead>\n",
       "    <tr style=\"text-align: right;\">\n",
       "      <th></th>\n",
       "      <th>SPY</th>\n",
       "      <th>Commodities</th>\n",
       "      <th>US HY</th>\n",
       "      <th>GOLD</th>\n",
       "      <th>EURUSD</th>\n",
       "      <th>USDJPY</th>\n",
       "      <th>US GOVT</th>\n",
       "    </tr>\n",
       "    <tr>\n",
       "      <th>Date</th>\n",
       "      <th></th>\n",
       "      <th></th>\n",
       "      <th></th>\n",
       "      <th></th>\n",
       "      <th></th>\n",
       "      <th></th>\n",
       "      <th></th>\n",
       "    </tr>\n",
       "  </thead>\n",
       "  <tbody>\n",
       "    <tr>\n",
       "      <th>2014-11-03</th>\n",
       "      <td>0.000545</td>\n",
       "      <td>-0.010176</td>\n",
       "      <td>0.002106</td>\n",
       "      <td>0.004213</td>\n",
       "      <td>-0.008740</td>\n",
       "      <td>0.033220</td>\n",
       "      <td>-0.000706</td>\n",
       "    </tr>\n",
       "    <tr>\n",
       "      <th>2014-11-04</th>\n",
       "      <td>-0.003470</td>\n",
       "      <td>-0.015234</td>\n",
       "      <td>-0.003141</td>\n",
       "      <td>-0.038591</td>\n",
       "      <td>-0.000575</td>\n",
       "      <td>0.007152</td>\n",
       "      <td>0.000894</td>\n",
       "    </tr>\n",
       "    <tr>\n",
       "      <th>2014-11-05</th>\n",
       "      <td>0.006317</td>\n",
       "      <td>0.005979</td>\n",
       "      <td>-0.000217</td>\n",
       "      <td>-0.042757</td>\n",
       "      <td>0.004532</td>\n",
       "      <td>-0.001478</td>\n",
       "      <td>-0.000706</td>\n",
       "    </tr>\n",
       "    <tr>\n",
       "      <th>2014-11-06</th>\n",
       "      <td>0.004003</td>\n",
       "      <td>0.000000</td>\n",
       "      <td>0.002608</td>\n",
       "      <td>0.033729</td>\n",
       "      <td>-0.005778</td>\n",
       "      <td>0.010354</td>\n",
       "      <td>-0.002302</td>\n",
       "    </tr>\n",
       "    <tr>\n",
       "      <th>2014-11-07</th>\n",
       "      <td>0.000935</td>\n",
       "      <td>0.007547</td>\n",
       "      <td>0.000976</td>\n",
       "      <td>0.072310</td>\n",
       "      <td>-0.008010</td>\n",
       "      <td>0.004544</td>\n",
       "      <td>0.005712</td>\n",
       "    </tr>\n",
       "    <tr>\n",
       "      <th>...</th>\n",
       "      <td>...</td>\n",
       "      <td>...</td>\n",
       "      <td>...</td>\n",
       "      <td>...</td>\n",
       "      <td>...</td>\n",
       "      <td>...</td>\n",
       "      <td>...</td>\n",
       "    </tr>\n",
       "    <tr>\n",
       "      <th>2025-05-09</th>\n",
       "      <td>-0.001274</td>\n",
       "      <td>0.011035</td>\n",
       "      <td>0.000637</td>\n",
       "      <td>0.031813</td>\n",
       "      <td>-0.007251</td>\n",
       "      <td>0.015064</td>\n",
       "      <td>0.000173</td>\n",
       "    </tr>\n",
       "    <tr>\n",
       "      <th>2025-05-12</th>\n",
       "      <td>0.033047</td>\n",
       "      <td>0.004799</td>\n",
       "      <td>0.009930</td>\n",
       "      <td>-0.063207</td>\n",
       "      <td>0.000483</td>\n",
       "      <td>-0.001390</td>\n",
       "      <td>-0.006198</td>\n",
       "    </tr>\n",
       "    <tr>\n",
       "      <th>2025-05-13</th>\n",
       "      <td>0.006604</td>\n",
       "      <td>0.014327</td>\n",
       "      <td>0.001765</td>\n",
       "      <td>-0.003840</td>\n",
       "      <td>-0.011939</td>\n",
       "      <td>0.017132</td>\n",
       "      <td>-0.003015</td>\n",
       "    </tr>\n",
       "    <tr>\n",
       "      <th>2025-05-14</th>\n",
       "      <td>0.001278</td>\n",
       "      <td>-0.005447</td>\n",
       "      <td>-0.003649</td>\n",
       "      <td>-0.029185</td>\n",
       "      <td>0.008109</td>\n",
       "      <td>-0.005273</td>\n",
       "      <td>-0.003014</td>\n",
       "    </tr>\n",
       "    <tr>\n",
       "      <th>2025-05-15</th>\n",
       "      <td>0.004884</td>\n",
       "      <td>-0.010396</td>\n",
       "      <td>0.001894</td>\n",
       "      <td>0.018151</td>\n",
       "      <td>-0.000324</td>\n",
       "      <td>-0.005951</td>\n",
       "      <td>0.006602</td>\n",
       "    </tr>\n",
       "  </tbody>\n",
       "</table>\n",
       "<p>2511 rows × 7 columns</p>\n",
       "</div>"
      ],
      "text/plain": [
       "                 SPY  Commodities     US HY      GOLD    EURUSD    USDJPY  \\\n",
       "Date                                                                        \n",
       "2014-11-03  0.000545    -0.010176  0.002106  0.004213 -0.008740  0.033220   \n",
       "2014-11-04 -0.003470    -0.015234 -0.003141 -0.038591 -0.000575  0.007152   \n",
       "2014-11-05  0.006317     0.005979 -0.000217 -0.042757  0.004532 -0.001478   \n",
       "2014-11-06  0.004003     0.000000  0.002608  0.033729 -0.005778  0.010354   \n",
       "2014-11-07  0.000935     0.007547  0.000976  0.072310 -0.008010  0.004544   \n",
       "...              ...          ...       ...       ...       ...       ...   \n",
       "2025-05-09 -0.001274     0.011035  0.000637  0.031813 -0.007251  0.015064   \n",
       "2025-05-12  0.033047     0.004799  0.009930 -0.063207  0.000483 -0.001390   \n",
       "2025-05-13  0.006604     0.014327  0.001765 -0.003840 -0.011939  0.017132   \n",
       "2025-05-14  0.001278    -0.005447 -0.003649 -0.029185  0.008109 -0.005273   \n",
       "2025-05-15  0.004884    -0.010396  0.001894  0.018151 -0.000324 -0.005951   \n",
       "\n",
       "             US GOVT  \n",
       "Date                  \n",
       "2014-11-03 -0.000706  \n",
       "2014-11-04  0.000894  \n",
       "2014-11-05 -0.000706  \n",
       "2014-11-06 -0.002302  \n",
       "2014-11-07  0.005712  \n",
       "...              ...  \n",
       "2025-05-09  0.000173  \n",
       "2025-05-12 -0.006198  \n",
       "2025-05-13 -0.003015  \n",
       "2025-05-14 -0.003014  \n",
       "2025-05-15  0.006602  \n",
       "\n",
       "[2511 rows x 7 columns]"
      ]
     },
     "execution_count": 8,
     "metadata": {},
     "output_type": "execute_result"
    }
   ],
   "source": [
    "macroRets = pd.DataFrame()\n",
    "for t in dfs_full:\n",
    "    macroRets[t] = dfs_full[t]['Return']\n",
    "\n",
    "\n",
    "AssetNamesMap = { 'GD=F':'Commodities', 'HYG':'US HY', \n",
    "                 'EURUSD=X':'EURUSD', 'TSY':'US GOVT', 'JPY=X':'USDJPY'}\n",
    "\n",
    "macroRets = macroRets.rename(columns=AssetNamesMap).dropna()\n",
    "macroRets.to_csv(\"/work/data/macro_retz.csv\")\n",
    "macroRets\n"
   ]
  },
  {
   "cell_type": "markdown",
   "metadata": {
    "cell_id": "195d8916eb4b493f87955dd210e4fe94",
    "deepnote_cell_type": "markdown"
   },
   "source": [
    "### Get US Equity Benchmarks Data ###\n",
    "Based on prior knowledge, Ark may load more on NASDAQ than on SPY."
   ]
  },
  {
   "cell_type": "code",
   "execution_count": null,
   "metadata": {
    "cell_id": "558ca3a4644d4ae382f5dc14dc12794c",
    "deepnote_cell_type": "code",
    "execution_context_id": "04b5c186-7165-4dc0-9cc1-f9cc42a58673",
    "execution_millis": 459,
    "execution_start": 1747515204195,
    "source_hash": "99b69f40"
   },
   "outputs": [
    {
     "name": "stderr",
     "output_type": "stream",
     "text": [
      "[*********************100%***********************]  1 of 1 completed\n",
      "[*********************100%***********************]  1 of 1 completed\n"
     ]
    }
   ],
   "source": [
    "QQQ = yf.download(\"QQQ\", start=\"2014-10-31\", end=\"2024-12-31\")['Close', 'QQQ']\n",
    "SPY = yf.download(\"SPY\", start=\"2014-10-31\", end=\"2024-12-31\")['Close', 'SPY']\n",
    "\n",
    "QQQRets = QQQ.pct_change().dropna()\n",
    "QQQRets.name = 'QQQ'\n",
    "SPYRets = SPY.pct_change().dropna()\n",
    "SPYRets.name = 'SPY'"
   ]
  },
  {
   "cell_type": "markdown",
   "metadata": {
    "cell_id": "58857608683d4328ad79ae963d623192",
    "deepnote_cell_type": "markdown"
   },
   "source": [
    "# Ark Univariate Returns Profile #\n",
    "Here we'll look at at the univariate returns profiles of three assets/indices: Ark, SPY, and QQQ.  "
   ]
  },
  {
   "cell_type": "markdown",
   "metadata": {
    "cell_id": "36e8cabbb3cc4ba3b106da4cb92774e9",
    "deepnote_cell_type": "markdown"
   },
   "source": [
    "#### Cumulative Returns Plots: ####"
   ]
  },
  {
   "cell_type": "code",
   "execution_count": null,
   "metadata": {
    "cell_id": "d749ce77100a463283cde422d7a79b56",
    "deepnote_cell_type": "code",
    "execution_context_id": "04b5c186-7165-4dc0-9cc1-f9cc42a58673",
    "execution_millis": 570,
    "execution_start": 1747515204705,
    "source_hash": "d8aff0f7"
   },
   "outputs": [
    {
     "data": {
      "image/png": "[encoded data removed]",
      "text/plain": [
       "<Figure size 640x480 with 1 Axes>"
      ]
     },
     "metadata": {
      "image/png": {
       "height": 435,
       "width": 571
      }
     },
     "output_type": "display_data"
    }
   ],
   "source": [
    "for retSeries in [arkRets, SPYRets, QQQRets]:\n",
    "    cumRets = ((1 + retSeries).cumprod() - 1) * 100\n",
    "    plt.plot(cumRets, label=retSeries.name)\n",
    "\n",
    "plt.legend()\n",
    "plt.ylabel('%')\n",
    "plt.title('Cumulative Returns');"
   ]
  },
  {
   "cell_type": "markdown",
   "metadata": {
    "cell_id": "d9727e77f16e495b87213dd5b5bc1c8a",
    "deepnote_cell_type": "markdown"
   },
   "source": [
    "Cumulative returns for SPY and Ark have been similar, but Ark had a massive run post-COVID and then a huge drawdown. Ark thus has had much higher vol than SPY. "
   ]
  },
  {
   "cell_type": "markdown",
   "metadata": {
    "cell_id": "c4ced066ae0a4104b15d8d5f5400a77f",
    "deepnote_cell_type": "markdown"
   },
   "source": [
    "Return Profile Summary Statistics:"
   ]
  },
  {
   "cell_type": "code",
   "execution_count": null,
   "metadata": {
    "cell_id": "3228e1f63c6545568fbbf2372bb44945",
    "deepnote_cell_type": "code",
    "execution_context_id": "04b5c186-7165-4dc0-9cc1-f9cc42a58673",
    "execution_millis": 1,
    "execution_start": 1747515205325,
    "source_hash": "81902ff0"
   },
   "outputs": [],
   "source": [
    "def SummarizeReturns(returns: pd.Series, risk_free_rate: float = 0.0, confidence: float = 0.05, periods_per_year: int = 252) -> pd.Series:\n",
    "    \"\"\"\n",
    "    Summarizes a series of daily returns with annualized performance metrics.\n",
    "\n",
    "    Parameters:\n",
    "        returns (pd.Series): Daily return series (arithmetic)\n",
    "        risk_free_rate (float): Daily risk-free rate (default 0.0)\n",
    "        confidence (float): For Value at Risk (VaR), default is 5%\n",
    "        periods_per_year (int): Number of trading periods per year (default 252 for daily)\n",
    "\n",
    "    Returns:\n",
    "        pd.Series: Annualized summary statistics\n",
    "    \"\"\"\n",
    "\n",
    "    mean_daily = returns.mean()\n",
    "    std_daily = returns.std()\n",
    "\n",
    "    mean_annual = mean_daily * periods_per_year\n",
    "    std_annual = std_daily * np.sqrt(periods_per_year)\n",
    "\n",
    "    sharpe = (mean_annual - risk_free_rate * periods_per_year) / std_annual if std_annual > 0 else np.nan\n",
    "\n",
    "    downside_std_daily = returns[returns < 0].std()\n",
    "    downside_std_annual = downside_std_daily * np.sqrt(periods_per_year)\n",
    "    sortino = (mean_annual - risk_free_rate * periods_per_year) / downside_std_annual if downside_std_annual > 0 else np.nan\n",
    "\n",
    "    cumulative = (1 + returns).cumprod()\n",
    "    running_max = cumulative.cummax()\n",
    "    drawdowns = (cumulative - running_max) / running_max\n",
    "    max_drawdown = drawdowns.min()\n",
    "\n",
    "    var = returns.quantile(confidence)\n",
    "\n",
    "    return pd.Series({\n",
    "        \"Annualized Mean\": mean_annual,\n",
    "        \"Annualized Std Dev\": std_annual,\n",
    "        \"Sharpe Ratio\": sharpe,\n",
    "        \"Sortino Ratio\": sortino,\n",
    "        \"Max Drawdown\": max_drawdown,\n",
    "        f\"{int(confidence*100)}% Daily VaR\": var\n",
    "    })\n"
   ]
  },
  {
   "cell_type": "code",
   "execution_count": null,
   "metadata": {
    "cell_id": "fedbdd2c6a7c4de0888627f25ae30511",
    "deepnote_cell_type": "code",
    "execution_context_id": "04b5c186-7165-4dc0-9cc1-f9cc42a58673",
    "execution_millis": 1,
    "execution_start": 1747515205378,
    "source_hash": "30f7c2a"
   },
   "outputs": [
    {
     "data": {
      "application/vnd.deepnote.dataframe.v3+json": {
       "column_count": 3,
       "columns": [
        {
         "dtype": "float64",
         "name": "Ark",
         "stats": {
          "histogram": [
           {
            "bin_end": -0.6607309075863921,
            "bin_start": -0.8091410758425105,
            "count": 1
           },
           {
            "bin_end": -0.5123207393302738,
            "bin_start": -0.6607309075863921,
            "count": 0
           },
           {
            "bin_end": -0.36391057107415536,
            "bin_start": -0.5123207393302738,
            "count": 0
           },
           {
            "bin_end": -0.21550040281803695,
            "bin_start": -0.36391057107415536,
            "count": 0
           },
           {
            "bin_end": -0.06709023456191854,
            "bin_start": -0.21550040281803695,
            "count": 0
           },
           {
            "bin_end": 0.08131993369419976,
            "bin_start": -0.06709023456191854,
            "count": 1
           },
           {
            "bin_end": 0.2297301019503183,
            "bin_start": 0.08131993369419976,
            "count": 1
           },
           {
            "bin_end": 0.3781402702064366,
            "bin_start": 0.2297301019503183,
            "count": 1
           },
           {
            "bin_end": 0.5265504384625549,
            "bin_start": 0.3781402702064366,
            "count": 1
           },
           {
            "bin_end": 0.6749606067186733,
            "bin_start": 0.5265504384625549,
            "count": 1
           }
          ],
          "max": "0.6749606067186733",
          "min": "-0.8091410758425105",
          "nan_count": 0,
          "unique_count": 6
         }
        },
        {
         "dtype": "float64",
         "name": "SPY",
         "stats": {
          "histogram": [
           {
            "bin_end": -0.20774815247625397,
            "bin_start": -0.33717263927815383,
            "count": 1
           },
           {
            "bin_end": -0.07832366567435411,
            "bin_start": -0.20774815247625397,
            "count": 0
           },
           {
            "bin_end": 0.051100821127545715,
            "bin_start": -0.07832366567435411,
            "count": 1
           },
           {
            "bin_end": 0.1805253079294456,
            "bin_start": 0.051100821127545715,
            "count": 2
           },
           {
            "bin_end": 0.3099497947313455,
            "bin_start": 0.1805253079294456,
            "count": 0
           },
           {
            "bin_end": 0.43937428153324526,
            "bin_start": 0.3099497947313455,
            "count": 0
           },
           {
            "bin_end": 0.5687987683351452,
            "bin_start": 0.43937428153324526,
            "count": 0
           },
           {
            "bin_end": 0.6982232551370451,
            "bin_start": 0.5687987683351452,
            "count": 0
           },
           {
            "bin_end": 0.827647741938945,
            "bin_start": 0.6982232551370451,
            "count": 1
           },
           {
            "bin_end": 0.9570722287408447,
            "bin_start": 0.827647741938945,
            "count": 1
           }
          ],
          "max": "0.9570722287408447",
          "min": "-0.33717263927815383",
          "nan_count": 0,
          "unique_count": 6
         }
        },
        {
         "dtype": "float64",
         "name": "QQQ",
         "stats": {
          "histogram": [
           {
            "bin_end": -0.20361206398424048,
            "bin_start": -0.3511870896584545,
            "count": 1
           },
           {
            "bin_end": -0.05603703831002643,
            "bin_start": -0.20361206398424048,
            "count": 0
           },
           {
            "bin_end": 0.09153798736418761,
            "bin_start": -0.05603703831002643,
            "count": 1
           },
           {
            "bin_end": 0.23911301303840166,
            "bin_start": 0.09153798736418761,
            "count": 2
           },
           {
            "bin_end": 0.38668803871261576,
            "bin_start": 0.23911301303840166,
            "count": 0
           },
           {
            "bin_end": 0.5342630643868298,
            "bin_start": 0.38668803871261576,
            "count": 0
           },
           {
            "bin_end": 0.6818380900610437,
            "bin_start": 0.5342630643868298,
            "count": 0
           },
           {
            "bin_end": 0.8294131157352578,
            "bin_start": 0.6818380900610437,
            "count": 0
           },
           {
            "bin_end": 0.9769881414094719,
            "bin_start": 0.8294131157352578,
            "count": 1
           },
           {
            "bin_end": 1.124563167083686,
            "bin_start": 0.9769881414094719,
            "count": 1
           }
          ],
          "max": "1.124563167083686",
          "min": "-0.3511870896584545",
          "nan_count": 0,
          "unique_count": 6
         }
        },
        {
         "dtype": "object",
         "name": "_deepnote_index_column"
        }
       ],
       "row_count": 6,
       "rows": [
        {
         "Ark": 0.18368971442511398,
         "QQQ": 0.192011810601498,
         "SPY": 0.1387284248636218,
         "_deepnote_index_column": "Annualized Mean"
        },
        {
         "Ark": 0.3767018221097732,
         "QQQ": 0.21697216030854913,
         "SPY": 0.17537058537283046,
         "_deepnote_index_column": "Annualized Std Dev"
        },
        {
         "Ark": 0.4876262965661623,
         "QQQ": 0.8849605881622977,
         "SPY": 0.791058686202655,
         "_deepnote_index_column": "Sharpe Ratio"
        },
        {
         "Ark": 0.6749606067186733,
         "QQQ": 1.124563167083686,
         "SPY": 0.9570722287408447,
         "_deepnote_index_column": "Sortino Ratio"
        },
        {
         "Ark": -0.8091410758425105,
         "QQQ": -0.3511870896584545,
         "SPY": -0.33717263927815383,
         "_deepnote_index_column": "Max Drawdown"
        },
        {
         "Ark": -0.038262032855872014,
         "QQQ": -0.02228555409238736,
         "SPY": -0.016680527576701715,
         "_deepnote_index_column": "5% Daily VaR"
        }
       ],
       "type": "dataframe"
      },
      "text/html": [
       "<div>\n",
       "<style scoped>\n",
       "    .dataframe tbody tr th:only-of-type {\n",
       "        vertical-align: middle;\n",
       "    }\n",
       "\n",
       "    .dataframe tbody tr th {\n",
       "        vertical-align: top;\n",
       "    }\n",
       "\n",
       "    .dataframe thead th {\n",
       "        text-align: right;\n",
       "    }\n",
       "</style>\n",
       "<table border=\"1\" class=\"dataframe\">\n",
       "  <thead>\n",
       "    <tr style=\"text-align: right;\">\n",
       "      <th></th>\n",
       "      <th>Ark</th>\n",
       "      <th>SPY</th>\n",
       "      <th>QQQ</th>\n",
       "    </tr>\n",
       "  </thead>\n",
       "  <tbody>\n",
       "    <tr>\n",
       "      <th>Annualized Mean</th>\n",
       "      <td>0.183690</td>\n",
       "      <td>0.138728</td>\n",
       "      <td>0.192012</td>\n",
       "    </tr>\n",
       "    <tr>\n",
       "      <th>Annualized Std Dev</th>\n",
       "      <td>0.376702</td>\n",
       "      <td>0.175371</td>\n",
       "      <td>0.216972</td>\n",
       "    </tr>\n",
       "    <tr>\n",
       "      <th>Sharpe Ratio</th>\n",
       "      <td>0.487626</td>\n",
       "      <td>0.791059</td>\n",
       "      <td>0.884961</td>\n",
       "    </tr>\n",
       "    <tr>\n",
       "      <th>Sortino Ratio</th>\n",
       "      <td>0.674961</td>\n",
       "      <td>0.957072</td>\n",
       "      <td>1.124563</td>\n",
       "    </tr>\n",
       "    <tr>\n",
       "      <th>Max Drawdown</th>\n",
       "      <td>-0.809141</td>\n",
       "      <td>-0.337173</td>\n",
       "      <td>-0.351187</td>\n",
       "    </tr>\n",
       "    <tr>\n",
       "      <th>5% Daily VaR</th>\n",
       "      <td>-0.038262</td>\n",
       "      <td>-0.016681</td>\n",
       "      <td>-0.022286</td>\n",
       "    </tr>\n",
       "  </tbody>\n",
       "</table>\n",
       "</div>"
      ],
      "text/plain": [
       "                         Ark       SPY       QQQ\n",
       "Annualized Mean     0.183690  0.138728  0.192012\n",
       "Annualized Std Dev  0.376702  0.175371  0.216972\n",
       "Sharpe Ratio        0.487626  0.791059  0.884961\n",
       "Sortino Ratio       0.674961  0.957072  1.124563\n",
       "Max Drawdown       -0.809141 -0.337173 -0.351187\n",
       "5% Daily VaR       -0.038262 -0.016681 -0.022286"
      ]
     },
     "execution_count": 12,
     "metadata": {},
     "output_type": "execute_result"
    }
   ],
   "source": [
    "retsSummary = pd.DataFrame({'Ark': SummarizeReturns(arkRets).values,  'SPY': SummarizeReturns(SPYRets), 'QQQ': SummarizeReturns(QQQRets)}, index = SummarizeReturns(arkRets).index)\n",
    "retsSummary"
   ]
  },
  {
   "cell_type": "markdown",
   "metadata": {
    "cell_id": "79d286c4962a48929c3c8ecb804d3773",
    "deepnote_cell_type": "markdown"
   },
   "source": [
    "Noting the massive max drawdown numbers, we think that the results using arithmetic returns significantly overstate performance on a compounded basis. Here are the same numbers but using geometric mean returns instead of arithmetic mean returns:"
   ]
  },
  {
   "cell_type": "code",
   "execution_count": null,
   "metadata": {
    "cell_id": "671ca4b45592498da2529c200b9feb27",
    "deepnote_cell_type": "code",
    "execution_context_id": "04b5c186-7165-4dc0-9cc1-f9cc42a58673",
    "execution_millis": 1,
    "execution_start": 1747515205437,
    "source_hash": "6fbd0730"
   },
   "outputs": [],
   "source": [
    "def GeomSummary(returns: pd.Series, risk_free_rate: float = 0.0, confidence: float = 0.05, periods_per_year: int = 252) -> pd.Series:\n",
    "    \"\"\"\n",
    "    Summary of return metrics using geometric mean in ratio calculations.\n",
    "    \n",
    "    Parameters:\n",
    "        returns: pd.Series of daily arithmetic returns\n",
    "        risk_free_rate: daily risk-free rate (default 0)\n",
    "        confidence: for Value at Risk (VaR), default is 5%\n",
    "        periods_per_year: default 252 (daily returns)\n",
    "\n",
    "    Returns:\n",
    "        pd.Series with summary stats\n",
    "    \"\"\"\n",
    "    # Geometric mean return (annualized)\n",
    "    gross_return = (1 + returns).prod()\n",
    "    years = len(returns) / periods_per_year\n",
    "    geom_mean_annual = gross_return**(1 / years) - 1\n",
    "\n",
    "    # Std dev (based on arithmetic mean)\n",
    "    std_annual = returns.std() * np.sqrt(periods_per_year)\n",
    "\n",
    "    # Downside std dev\n",
    "    downside_std = returns[returns < 0].std()\n",
    "    downside_std_annual = downside_std * np.sqrt(periods_per_year)\n",
    "\n",
    "    # Ratios using geometric mean\n",
    "    sharpe = (geom_mean_annual - risk_free_rate * periods_per_year) / std_annual if std_annual > 0 else np.nan\n",
    "    sortino = (geom_mean_annual - risk_free_rate * periods_per_year) / downside_std_annual if downside_std_annual > 0 else np.nan\n",
    "\n",
    "    # Max drawdown\n",
    "    cumulative = (1 + returns).cumprod()\n",
    "    running_max = cumulative.cummax()\n",
    "    drawdowns = (cumulative - running_max) / running_max\n",
    "    max_drawdown = drawdowns.min()\n",
    "\n",
    "    # Daily VaR\n",
    "    var = returns.quantile(confidence)\n",
    "\n",
    "    return pd.Series({\n",
    "        \"Geometric Mean Return (Annualized)\": geom_mean_annual,\n",
    "        \"Annualized Std Dev\": std_annual,\n",
    "        \"Sharpe Ratio (Geo)\": sharpe,\n",
    "        \"Sortino Ratio (Geo)\": sortino,\n",
    "        \"Max Drawdown\": max_drawdown,\n",
    "        f\"{int(confidence*100)}% Daily VaR\": var\n",
    "    })\n"
   ]
  },
  {
   "cell_type": "code",
   "execution_count": null,
   "metadata": {
    "cell_id": "5e0d6705a27a428fbe99037df2fb788e",
    "deepnote_cell_type": "code",
    "execution_context_id": "04b5c186-7165-4dc0-9cc1-f9cc42a58673",
    "execution_millis": 1,
    "execution_start": 1747515205495,
    "source_hash": "83190b1a"
   },
   "outputs": [
    {
     "data": {
      "application/vnd.deepnote.dataframe.v3+json": {
       "column_count": 3,
       "columns": [
        {
         "dtype": "float64",
         "name": "Ark",
         "stats": {
          "histogram": [
           {
            "bin_end": -0.6844445145121182,
            "bin_start": -0.8091410758425105,
            "count": 1
           },
           {
            "bin_end": -0.5597479531817258,
            "bin_start": -0.6844445145121182,
            "count": 0
           },
           {
            "bin_end": -0.43505139185133346,
            "bin_start": -0.5597479531817258,
            "count": 0
           },
           {
            "bin_end": -0.3103548305209411,
            "bin_start": -0.43505139185133346,
            "count": 0
           },
           {
            "bin_end": -0.18565826919054873,
            "bin_start": -0.3103548305209411,
            "count": 0
           },
           {
            "bin_end": -0.06096170786015642,
            "bin_start": -0.18565826919054873,
            "count": 0
           },
           {
            "bin_end": 0.063734853470236,
            "bin_start": -0.06096170786015642,
            "count": 1
           },
           {
            "bin_end": 0.1884314148006283,
            "bin_start": 0.063734853470236,
            "count": 1
           },
           {
            "bin_end": 0.3131279761310207,
            "bin_start": 0.1884314148006283,
            "count": 0
           },
           {
            "bin_end": 0.4378245374614131,
            "bin_start": 0.3131279761310207,
            "count": 3
           }
          ],
          "max": "0.4378245374614131",
          "min": "-0.8091410758425105",
          "nan_count": 0,
          "unique_count": 6
         }
        },
        {
         "dtype": "float64",
         "name": "SPY",
         "stats": {
          "histogram": [
           {
            "bin_end": -0.21295806522296018,
            "bin_start": -0.33717263927815383,
            "count": 1
           },
           {
            "bin_end": -0.08874349116776653,
            "bin_start": -0.21295806522296018,
            "count": 0
           },
           {
            "bin_end": 0.03547108288742712,
            "bin_start": -0.08874349116776653,
            "count": 1
           },
           {
            "bin_end": 0.15968565694262077,
            "bin_start": 0.03547108288742712,
            "count": 1
           },
           {
            "bin_end": 0.2839002309978144,
            "bin_start": 0.15968565694262077,
            "count": 1
           },
           {
            "bin_end": 0.40811480505300807,
            "bin_start": 0.2839002309978144,
            "count": 0
           },
           {
            "bin_end": 0.5323293791082018,
            "bin_start": 0.40811480505300807,
            "count": 0
           },
           {
            "bin_end": 0.6565439531633954,
            "bin_start": 0.5323293791082018,
            "count": 0
           },
           {
            "bin_end": 0.7807585272185891,
            "bin_start": 0.6565439531633954,
            "count": 1
           },
           {
            "bin_end": 0.9049731012737827,
            "bin_start": 0.7807585272185891,
            "count": 1
           }
          ],
          "max": "0.9049731012737827",
          "min": "-0.33717263927815383",
          "nan_count": 0,
          "unique_count": 6
         }
        },
        {
         "dtype": "float64",
         "name": "QQQ",
         "stats": {
          "histogram": [
           {
            "bin_end": -0.2086894807275641,
            "bin_start": -0.3511870896584545,
            "count": 1
           },
           {
            "bin_end": -0.06619187179667368,
            "bin_start": -0.2086894807275641,
            "count": 0
           },
           {
            "bin_end": 0.07630573713421673,
            "bin_start": -0.06619187179667368,
            "count": 1
           },
           {
            "bin_end": 0.21880334606510715,
            "bin_start": 0.07630573713421673,
            "count": 2
           },
           {
            "bin_end": 0.3613009549959976,
            "bin_start": 0.21880334606510715,
            "count": 0
           },
           {
            "bin_end": 0.503798563926888,
            "bin_start": 0.3613009549959976,
            "count": 0
           },
           {
            "bin_end": 0.6462961728577783,
            "bin_start": 0.503798563926888,
            "count": 0
           },
           {
            "bin_end": 0.7887937817886688,
            "bin_start": 0.6462961728577783,
            "count": 0
           },
           {
            "bin_end": 0.9312913907195592,
            "bin_start": 0.7887937817886688,
            "count": 1
           },
           {
            "bin_end": 1.0737889996504495,
            "bin_start": 0.9312913907195592,
            "count": 1
           }
          ],
          "max": "1.0737889996504495",
          "min": "-0.3511870896584545",
          "nan_count": 0,
          "unique_count": 6
         }
        },
        {
         "dtype": "object",
         "name": "_deepnote_index_column"
        }
       ],
       "row_count": 6,
       "rows": [
        {
         "Ark": 0.11915341940557966,
         "QQQ": 0.18334245337372934,
         "SPY": 0.13117661249959212,
         "_deepnote_index_column": "Geometric Mean Return (Annualized)"
        },
        {
         "Ark": 0.3767018221097732,
         "QQQ": 0.21697216030854913,
         "SPY": 0.17537058537283046,
         "_deepnote_index_column": "Annualized Std Dev"
        },
        {
         "Ark": 0.3163069898049435,
         "QQQ": 0.8450045070897757,
         "SPY": 0.7479966621581161,
         "_deepnote_index_column": "Sharpe Ratio (Geo)"
        },
        {
         "Ark": 0.4378245374614131,
         "QQQ": 1.0737889996504495,
         "SPY": 0.9049731012737827,
         "_deepnote_index_column": "Sortino Ratio (Geo)"
        },
        {
         "Ark": -0.8091410758425105,
         "QQQ": -0.3511870896584545,
         "SPY": -0.33717263927815383,
         "_deepnote_index_column": "Max Drawdown"
        },
        {
         "Ark": -0.038262032855872014,
         "QQQ": -0.02228555409238736,
         "SPY": -0.016680527576701715,
         "_deepnote_index_column": "5% Daily VaR"
        }
       ],
       "type": "dataframe"
      },
      "text/html": [
       "<div>\n",
       "<style scoped>\n",
       "    .dataframe tbody tr th:only-of-type {\n",
       "        vertical-align: middle;\n",
       "    }\n",
       "\n",
       "    .dataframe tbody tr th {\n",
       "        vertical-align: top;\n",
       "    }\n",
       "\n",
       "    .dataframe thead th {\n",
       "        text-align: right;\n",
       "    }\n",
       "</style>\n",
       "<table border=\"1\" class=\"dataframe\">\n",
       "  <thead>\n",
       "    <tr style=\"text-align: right;\">\n",
       "      <th></th>\n",
       "      <th>Ark</th>\n",
       "      <th>SPY</th>\n",
       "      <th>QQQ</th>\n",
       "    </tr>\n",
       "  </thead>\n",
       "  <tbody>\n",
       "    <tr>\n",
       "      <th>Geometric Mean Return (Annualized)</th>\n",
       "      <td>0.119153</td>\n",
       "      <td>0.131177</td>\n",
       "      <td>0.183342</td>\n",
       "    </tr>\n",
       "    <tr>\n",
       "      <th>Annualized Std Dev</th>\n",
       "      <td>0.376702</td>\n",
       "      <td>0.175371</td>\n",
       "      <td>0.216972</td>\n",
       "    </tr>\n",
       "    <tr>\n",
       "      <th>Sharpe Ratio (Geo)</th>\n",
       "      <td>0.316307</td>\n",
       "      <td>0.747997</td>\n",
       "      <td>0.845005</td>\n",
       "    </tr>\n",
       "    <tr>\n",
       "      <th>Sortino Ratio (Geo)</th>\n",
       "      <td>0.437825</td>\n",
       "      <td>0.904973</td>\n",
       "      <td>1.073789</td>\n",
       "    </tr>\n",
       "    <tr>\n",
       "      <th>Max Drawdown</th>\n",
       "      <td>-0.809141</td>\n",
       "      <td>-0.337173</td>\n",
       "      <td>-0.351187</td>\n",
       "    </tr>\n",
       "    <tr>\n",
       "      <th>5% Daily VaR</th>\n",
       "      <td>-0.038262</td>\n",
       "      <td>-0.016681</td>\n",
       "      <td>-0.022286</td>\n",
       "    </tr>\n",
       "  </tbody>\n",
       "</table>\n",
       "</div>"
      ],
      "text/plain": [
       "                                         Ark       SPY       QQQ\n",
       "Geometric Mean Return (Annualized)  0.119153  0.131177  0.183342\n",
       "Annualized Std Dev                  0.376702  0.175371  0.216972\n",
       "Sharpe Ratio (Geo)                  0.316307  0.747997  0.845005\n",
       "Sortino Ratio (Geo)                 0.437825  0.904973  1.073789\n",
       "Max Drawdown                       -0.809141 -0.337173 -0.351187\n",
       "5% Daily VaR                       -0.038262 -0.016681 -0.022286"
      ]
     },
     "execution_count": 14,
     "metadata": {},
     "output_type": "execute_result"
    }
   ],
   "source": [
    "geomSummary = pd.DataFrame({'Ark': GeomSummary(arkRets).values, 'SPY': GeomSummary(SPYRets), 'QQQ': GeomSummary(QQQRets)}, index = GeomSummary(arkRets).index)\n",
    "geomSummary"
   ]
  },
  {
   "cell_type": "markdown",
   "metadata": {
    "cell_id": "3eeff8512fcc4a859549839ff5d87ada",
    "deepnote_cell_type": "markdown"
   },
   "source": [
    "# Ark's Factor Exposures #"
   ]
  },
  {
   "cell_type": "markdown",
   "metadata": {
    "cell_id": "ad9ca6681382442084d60c63f927a6ef",
    "deepnote_cell_type": "markdown"
   },
   "source": [
    "### US Equity Index Exposures ###"
   ]
  },
  {
   "cell_type": "markdown",
   "metadata": {
    "cell_id": "856aa2225a1a40858dbe7a70a17c3c0e",
    "deepnote_cell_type": "markdown"
   },
   "source": [
    "First let's run univariate regressions of Ark returns on US equity index returns."
   ]
  },
  {
   "cell_type": "code",
   "execution_count": null,
   "metadata": {
    "cell_id": "fbf96fb34c1a4aee9562a3b9d449060f",
    "deepnote_cell_type": "code",
    "execution_context_id": "04b5c186-7165-4dc0-9cc1-f9cc42a58673",
    "execution_millis": 1,
    "execution_start": 1747515205546,
    "source_hash": "8582ebf"
   },
   "outputs": [],
   "source": [
    "def GetRegSummary(dependent: pd.Series, independent: pd.Series) -> pd.Series:\n",
    "    \"\"\"\n",
    "    Regresses `dependent` on `independent` and returns alpha, beta, R², and p-value.\n",
    "\n",
    "    Parameters:\n",
    "        dependent (pd.Series): Y-variable (e.g., asset or portfolio returns)\n",
    "        independent (pd.Series): X-variable (e.g., benchmark returns)\n",
    "\n",
    "    Returns:\n",
    "        pd.Series: Alpha, Beta, R², and p-value for Beta\n",
    "    \"\"\"\n",
    "\n",
    "    \n",
    "    # Align and clean\n",
    "    df = pd.concat(objs=[dependent, independent], axis=1).dropna()\n",
    "    y = df.iloc[:, 0]\n",
    "    X = sm.add_constant(df.iloc[:, 1])\n",
    "\n",
    "    # Fit model\n",
    "    model = sm.OLS(y, X).fit()\n",
    "\n",
    "    #Get IR\n",
    "    preds = model.predict(X) \n",
    "    activeRets = y - preds + model.params['const']\n",
    "    IR = np.mean(activeRets) / np.std(activeRets)\n",
    "\n",
    "    regSummary = pd.Series({\n",
    "        'Alpha': model.params['const'],\n",
    "        'Beta': model.params[X.columns[1]],\n",
    "        'R_squared': model.rsquared,\n",
    "        'P_value (Alpha)': model.pvalues[X.columns[0]], \n",
    "        'P_value (Beta)': model.pvalues[X.columns[1]],\n",
    "        'Info. Ratio': IR\n",
    "    })\n",
    "\n",
    "    return regSummary\n",
    "    \n"
   ]
  },
  {
   "cell_type": "code",
   "execution_count": null,
   "metadata": {
    "cell_id": "f6f75fc2bc6147208034d6c75e422e29",
    "deepnote_cell_type": "code",
    "execution_context_id": "04b5c186-7165-4dc0-9cc1-f9cc42a58673",
    "execution_millis": 11,
    "execution_start": 1747515205597,
    "source_hash": "ff942628"
   },
   "outputs": [
    {
     "data": {
      "application/vnd.deepnote.dataframe.v3+json": {
       "column_count": 2,
       "columns": [
        {
         "dtype": "float64",
         "name": "SPY",
         "stats": {
          "histogram": [
           {
            "bin_end": 0.1454,
            "bin_start": -0.006,
            "count": 3
           },
           {
            "bin_end": 0.2968,
            "bin_start": 0.1454,
            "count": 0
           },
           {
            "bin_end": 0.44820000000000004,
            "bin_start": 0.2968,
            "count": 0
           },
           {
            "bin_end": 0.5996,
            "bin_start": 0.44820000000000004,
            "count": 1
           },
           {
            "bin_end": 0.751,
            "bin_start": 0.5996,
            "count": 0
           },
           {
            "bin_end": 0.9024000000000001,
            "bin_start": 0.751,
            "count": 1
           },
           {
            "bin_end": 1.0538,
            "bin_start": 0.9024000000000001,
            "count": 0
           },
           {
            "bin_end": 1.2052,
            "bin_start": 1.0538,
            "count": 0
           },
           {
            "bin_end": 1.3566,
            "bin_start": 1.2052,
            "count": 0
           },
           {
            "bin_end": 1.508,
            "bin_start": 1.3566,
            "count": 1
           }
          ],
          "max": "1.508",
          "min": "-0.006",
          "nan_count": 0,
          "unique_count": 5
         }
        },
        {
         "dtype": "float64",
         "name": "QQQ",
         "stats": {
          "histogram": [
           {
            "bin_end": 0.11699999999999998,
            "bin_start": -0.019,
            "count": 3
           },
           {
            "bin_end": 0.25299999999999995,
            "bin_start": 0.11699999999999998,
            "count": 0
           },
           {
            "bin_end": 0.3889999999999999,
            "bin_start": 0.25299999999999995,
            "count": 1
           },
           {
            "bin_end": 0.5249999999999999,
            "bin_start": 0.3889999999999999,
            "count": 0
           },
           {
            "bin_end": 0.6609999999999999,
            "bin_start": 0.5249999999999999,
            "count": 1
           },
           {
            "bin_end": 0.7969999999999998,
            "bin_start": 0.6609999999999999,
            "count": 0
           },
           {
            "bin_end": 0.9329999999999998,
            "bin_start": 0.7969999999999998,
            "count": 0
           },
           {
            "bin_end": 1.069,
            "bin_start": 0.9329999999999998,
            "count": 0
           },
           {
            "bin_end": 1.2049999999999998,
            "bin_start": 1.069,
            "count": 0
           },
           {
            "bin_end": 1.341,
            "bin_start": 1.2049999999999998,
            "count": 1
           }
          ],
          "max": "1.341",
          "min": "-0.019",
          "nan_count": 0,
          "unique_count": 5
         }
        },
        {
         "dtype": "object",
         "name": "_deepnote_index_column"
        }
       ],
       "row_count": 6,
       "rows": [
        {
         "QQQ": 0,
         "SPY": 0,
         "_deepnote_index_column": "Alpha"
        },
        {
         "QQQ": 1.341,
         "SPY": 1.508,
         "_deepnote_index_column": "Beta"
        },
        {
         "QQQ": 0.597,
         "SPY": 0.493,
         "_deepnote_index_column": "R_squared"
        },
        {
         "QQQ": 0.327,
         "SPY": 0.763,
         "_deepnote_index_column": "P_value (Alpha)"
        },
        {
         "QQQ": 0,
         "SPY": 0,
         "_deepnote_index_column": "P_value (Beta)"
        },
        {
         "QQQ": -0.019,
         "SPY": -0.006,
         "_deepnote_index_column": "Info. Ratio"
        }
       ],
       "type": "dataframe"
      },
      "text/html": [
       "<div>\n",
       "<style scoped>\n",
       "    .dataframe tbody tr th:only-of-type {\n",
       "        vertical-align: middle;\n",
       "    }\n",
       "\n",
       "    .dataframe tbody tr th {\n",
       "        vertical-align: top;\n",
       "    }\n",
       "\n",
       "    .dataframe thead th {\n",
       "        text-align: right;\n",
       "    }\n",
       "</style>\n",
       "<table border=\"1\" class=\"dataframe\">\n",
       "  <thead>\n",
       "    <tr style=\"text-align: right;\">\n",
       "      <th></th>\n",
       "      <th>SPY</th>\n",
       "      <th>QQQ</th>\n",
       "    </tr>\n",
       "  </thead>\n",
       "  <tbody>\n",
       "    <tr>\n",
       "      <th>Alpha</th>\n",
       "      <td>-0.000</td>\n",
       "      <td>-0.000</td>\n",
       "    </tr>\n",
       "    <tr>\n",
       "      <th>Beta</th>\n",
       "      <td>1.508</td>\n",
       "      <td>1.341</td>\n",
       "    </tr>\n",
       "    <tr>\n",
       "      <th>R_squared</th>\n",
       "      <td>0.493</td>\n",
       "      <td>0.597</td>\n",
       "    </tr>\n",
       "    <tr>\n",
       "      <th>P_value (Alpha)</th>\n",
       "      <td>0.763</td>\n",
       "      <td>0.327</td>\n",
       "    </tr>\n",
       "    <tr>\n",
       "      <th>P_value (Beta)</th>\n",
       "      <td>0.000</td>\n",
       "      <td>0.000</td>\n",
       "    </tr>\n",
       "    <tr>\n",
       "      <th>Info. Ratio</th>\n",
       "      <td>-0.006</td>\n",
       "      <td>-0.019</td>\n",
       "    </tr>\n",
       "  </tbody>\n",
       "</table>\n",
       "</div>"
      ],
      "text/plain": [
       "                   SPY    QQQ\n",
       "Alpha           -0.000 -0.000\n",
       "Beta             1.508  1.341\n",
       "R_squared        0.493  0.597\n",
       "P_value (Alpha)  0.763  0.327\n",
       "P_value (Beta)   0.000  0.000\n",
       "Info. Ratio     -0.006 -0.019"
      ]
     },
     "execution_count": 16,
     "metadata": {},
     "output_type": "execute_result"
    }
   ],
   "source": [
    "regSummary = pd.DataFrame({'SPY': GetRegSummary(arkRets, SPYRets), 'QQQ':GetRegSummary(arkRets, QQQRets)})\n",
    "round(regSummary,3)"
   ]
  },
  {
   "cell_type": "markdown",
   "metadata": {
    "cell_id": "062b982d7d95457e974bae5532fe7c1d",
    "deepnote_cell_type": "markdown"
   },
   "source": [
    "### Hypothesis ###\n",
    "Ark seems to perform best relative to SP500 during sustained bull markets, and worst during sustained bear markets. This suggests we should hedge longer term market downturns, rather than shorter term market downturns. We can test this by creating market upswing/downswing dummy variables and then performing a two sample t-test for difference in means. We can optimize our hedge by selecting instruments to hedge the particular scenarios in which Ark performs worst."
   ]
  },
  {
   "cell_type": "code",
   "execution_count": null,
   "metadata": {
    "cell_id": "38aeb17bd0a449f393955b7da2fbf861",
    "deepnote_cell_type": "code",
    "execution_context_id": "04b5c186-7165-4dc0-9cc1-f9cc42a58673",
    "execution_millis": 1,
    "execution_start": 1747515205657,
    "source_hash": "cfc64e77"
   },
   "outputs": [],
   "source": [
    "def label_market_swings(df: pd.DataFrame, spy_col: str = 'SPY', window: int = 100, threshold: float = 0.1) -> pd.DataFrame:\n",
    "    \"\"\"\n",
    "    Labels each 100-day partition with 'upswing' and 'downswing' flags based on SPY cumulative returns.\n",
    "\n",
    "    Parameters:\n",
    "        df (pd.DataFrame): DataFrame containing return columns\n",
    "        spy_col (str): Name of SPY return column\n",
    "        window (int): Partition size\n",
    "        threshold (float): +/- cumulative return threshold for swing classification\n",
    "\n",
    "    Returns:\n",
    "        pd.DataFrame: Original dataframe with 'upswing' and 'downswing' columns\n",
    "    \"\"\"\n",
    "    df = df.copy()\n",
    "    n = len(df)\n",
    "\n",
    "    upswing = pd.Series(index=df.index, dtype=int)\n",
    "    downswing = pd.Series(index=df.index, dtype=int)\n",
    "\n",
    "    for i in range(0, n, window):\n",
    "        segment = df.iloc[i:i+window]\n",
    "        cum_return = (1 + segment[spy_col]).prod() - 1\n",
    "\n",
    "        upswing_flag = int(cum_return > threshold)\n",
    "        downswing_flag = int(cum_return < -threshold)\n",
    "\n",
    "        upswing.iloc[i:i+window] = upswing_flag\n",
    "        downswing.iloc[i:i+window] = downswing_flag\n",
    "\n",
    "    df['upswing'] = upswing\n",
    "    df['downswing'] = downswing\n",
    "\n",
    "    return df\n",
    "\n"
   ]
  },
  {
   "cell_type": "code",
   "execution_count": null,
   "metadata": {
    "cell_id": "416e43779b7b420da7e34d5c0ef417a7",
    "deepnote_cell_type": "code",
    "execution_context_id": "04b5c186-7165-4dc0-9cc1-f9cc42a58673",
    "execution_millis": 0,
    "execution_start": 1747515205722,
    "source_hash": "6bbd3974"
   },
   "outputs": [],
   "source": [
    "def difference_in_means_test(df: pd.DataFrame, return_col: str = 'excess') -> dict:\n",
    "    \"\"\"\n",
    "    Performs a one-sided t-test comparing mean excess return during upswings vs. downswings.\n",
    "\n",
    "    Parameters:\n",
    "        df (pd.DataFrame): DataFrame with 'upswing', 'downswing', and return columns\n",
    "        return_col (str): Name of the column with excess returns\n",
    "\n",
    "    Returns:\n",
    "        dict: Test statistic and p-value for the one-sided t-test (upswing > downswing)\n",
    "    \"\"\"\n",
    "    up_returns = df.loc[df['upswing'] == 1, return_col].dropna()\n",
    "    down_returns = df.loc[df['downswing'] == 1, return_col].dropna()\n",
    "\n",
    "    # Perform one-sided Welch’s t-test: H0: mean_up <= mean_down vs H1: mean_up > mean_down\n",
    "    t_stat, p_value_two_sided = stats.ttest_ind(up_returns, down_returns, equal_var=False)\n",
    "\n",
    "    # Convert to one-sided p-value for H1: mean_up > mean_down\n",
    "    if t_stat > 0:\n",
    "        p_value_one_sided = p_value_two_sided / 2\n",
    "    else:\n",
    "        p_value_one_sided = 1 - (p_value_two_sided / 2)\n",
    "\n",
    "    return {\n",
    "        \"t_statistic\": t_stat,\n",
    "        \"p_value (one-sided)\": p_value_one_sided,\n",
    "        \"mean_upswing\": up_returns.mean(),\n",
    "        \"mean_downswing\": down_returns.mean(),\n",
    "        \"difference\": up_returns.mean() - down_returns.mean()\n",
    "    }"
   ]
  },
  {
   "cell_type": "code",
   "execution_count": null,
   "metadata": {
    "cell_id": "2b504f685e94481796fb8d2a72844c39",
    "deepnote_cell_type": "code",
    "execution_context_id": "04b5c186-7165-4dc0-9cc1-f9cc42a58673",
    "execution_millis": 0,
    "execution_start": 1747515205785,
    "source_hash": "b7a974e9"
   },
   "outputs": [],
   "source": [
    "def grid_test_p_values(df: pd.DataFrame, spy_col: str, return_col: str,\n",
    "                       window_values: list, threshold_values: list) -> pd.DataFrame:\n",
    "    \"\"\"\n",
    "    Performs a grid search over window and threshold values for market swing labeling,\n",
    "    and computes the p-value of the difference in means test at each combination.\n",
    "\n",
    "    Parameters:\n",
    "        df (pd.DataFrame): Input DataFrame with SPY and excess return columns\n",
    "        spy_col (str): Name of the SPY returns column\n",
    "        return_col (str): Name of the excess return column\n",
    "        window_values (list): List of window sizes to test\n",
    "        threshold_values (list): List of return thresholds to test\n",
    "\n",
    "    Returns:\n",
    "        pd.DataFrame: DataFrame of p-values with thresholds as rows and windows as columns\n",
    "    \"\"\"\n",
    "    pval_matrix = pd.DataFrame(index=threshold_values, columns=window_values, dtype=float)\n",
    "\n",
    "    for threshold in threshold_values:\n",
    "        for window in window_values:\n",
    "            # Label swings\n",
    "            labeled = label_market_swings(df, spy_col=spy_col, window=window, threshold=threshold)\n",
    "\n",
    "            # Compute t-test and store p-value\n",
    "            result = difference_in_means_test(labeled, return_col=return_col)\n",
    "            pval_matrix.at[threshold, window] = result[\"p_value (one-sided)\"]\n",
    "    \n",
    "    pval_matrix.index.name = '% Swing'\n",
    "    pval_matrix.columns.name = 'Days'\n",
    "\n",
    "    return round(pval_matrix, 4)\n"
   ]
  },
  {
   "cell_type": "code",
   "execution_count": null,
   "metadata": {
    "cell_id": "6a709b4ee463414ab85da04f4cfb5c46",
    "deepnote_cell_type": "code",
    "execution_context_id": "04b5c186-7165-4dc0-9cc1-f9cc42a58673",
    "execution_millis": 0,
    "execution_start": 1747515205838,
    "source_hash": "55fb2795"
   },
   "outputs": [],
   "source": [
    "equityRets = pd.DataFrame({'SPY': SPYRets, 'Ark': arkRets})\n",
    "equityRets['excess'] = arkRets - SPYRets"
   ]
  },
  {
   "cell_type": "code",
   "execution_count": null,
   "metadata": {
    "cell_id": "686c26a6fbdb463aa9794901b57fe792",
    "deepnote_cell_type": "code",
    "execution_context_id": "04b5c186-7165-4dc0-9cc1-f9cc42a58673",
    "execution_millis": 1,
    "execution_start": 1747515205896,
    "source_hash": "ae9ae6ff"
   },
   "outputs": [],
   "source": [
    "windows = [50, 100, 150, 200, 250, 300]\n",
    "thresholds = [0.05, 0.1, 0.15, 0.2]"
   ]
  },
  {
   "cell_type": "code",
   "execution_count": null,
   "metadata": {
    "cell_id": "5342b98caf474cd9b6cebd54de65fbe7",
    "deepnote_cell_type": "code",
    "execution_context_id": "04b5c186-7165-4dc0-9cc1-f9cc42a58673",
    "execution_millis": 628,
    "execution_start": 1747515205959,
    "source_hash": "a9cef9ad"
   },
   "outputs": [
    {
     "data": {
      "text/plain": [
       "Text(0.5, 1.0, 'P Values for Difference in Mean Excess Returns')"
      ]
     },
     "execution_count": 22,
     "metadata": {},
     "output_type": "execute_result"
    },
    {
     "data": {
      "image/png": "[encoded data removed]",
      "text/plain": [
       "<Figure size 1000x600 with 2 Axes>"
      ]
     },
     "metadata": {
      "image/png": {
       "height": 612,
       "width": 937
      }
     },
     "output_type": "display_data"
    }
   ],
   "source": [
    "pvals = grid_test_p_values(equityRets, 'SPY', 'excess', windows, thresholds)\n",
    "import seaborn as sns\n",
    "import matplotlib.pyplot as plt\n",
    "\n",
    "plt.figure(figsize=(10, 6))\n",
    "sns.heatmap(pvals, annot=pvals,fmt=\".3f\", cmap=\"RdYlGn_r\", cbar_kws={\"label\": \"P Value\"})\n",
    "plt.xlabel(\"Days\")\n",
    "plt.ylabel(\"% Return Swing\")\n",
    "plt.tight_layout()\n",
    "plt.title('P Values for Difference in Mean Excess Returns')\n",
    "\n"
   ]
  },
  {
   "cell_type": "markdown",
   "metadata": {
    "cell_id": "40217ad4807c41db9fd97e7d5fcf1f8e",
    "deepnote_cell_type": "markdown"
   },
   "source": [
    "Each entry in the heatmap above says \"if the cumulative return of SPY was above/below  [0.05, 0.1, 0.15, 0.2] in the last [50, 100, 150, 200, 250, 300] then p-value is difference in mean returns of ARK during periods of up/down swings. \n",
    "\n",
    "Basically, the [0.05, 50] takes all the mean returns of ARK during periods where the S&P experinced a downswing of more that 0.05 over 50 days, and takes the mean return of ARK during periods where the S&P experienced an upswing of more that 0.05 over 50 days and the p-value is the statistical measure of if the mean of those returns differed. The p-value = 0.003 for [0.1, 50] tells us that the most variability in ARK's performance happens in periods where the S&P has a cumulative return of 0.1 in the last 50 days. "
   ]
  },
  {
   "cell_type": "markdown",
   "metadata": {
    "cell_id": "e088c33ecb7e4f25922dde8c3f20ef9b",
    "deepnote_cell_type": "markdown"
   },
   "source": [
    "Note that this could guide a SPY put option buying strategy: it tells us over what time horizons and what percentage moves in SPY that we see the most statistically significant difference between upswing performance and downswing performance. For example, we might want to buy SPY puts at 10% out of the money for K = 50 (trading days), while selling calls at 10% in the money for K=50 (because that's the most statistically significant)."
   ]
  },
  {
   "cell_type": "markdown",
   "metadata": {
    "cell_id": "ba6e3e720ea74697a7205630888da46d",
    "deepnote_cell_type": "markdown"
   },
   "source": [
    "### Macro Exposures ###"
   ]
  },
  {
   "cell_type": "markdown",
   "metadata": {
    "cell_id": "f83e28eece164a709c6c3279602a2d8b",
    "deepnote_cell_type": "markdown"
   },
   "source": [
    "Regress Ark returns against macro factors:"
   ]
  },
  {
   "cell_type": "code",
   "execution_count": null,
   "metadata": {
    "cell_id": "af21e6339ebc47498f5a1668cf38d4df",
    "deepnote_cell_type": "code",
    "execution_context_id": "04b5c186-7165-4dc0-9cc1-f9cc42a58673",
    "execution_millis": 1,
    "execution_start": 1747515207006,
    "source_hash": "fb2c8a24"
   },
   "outputs": [],
   "source": [
    "merged = pd.merge(macroRets, arkRets, how='inner', left_on=macroRets.index, right_on = arkRets.index)\n",
    "y = merged['Ark']\n",
    "X = merged[macroRets.columns]"
   ]
  },
  {
   "cell_type": "code",
   "execution_count": null,
   "metadata": {
    "cell_id": "c6589bf4128d44ebad2483818eab9aef",
    "deepnote_cell_type": "code",
    "execution_context_id": "04b5c186-7165-4dc0-9cc1-f9cc42a58673",
    "execution_millis": 51,
    "execution_start": 1747515207055,
    "source_hash": "938b3235"
   },
   "outputs": [
    {
     "name": "stdout",
     "output_type": "stream",
     "text": [
      "                                 OLS Regression Results                                \n",
      "=======================================================================================\n",
      "Dep. Variable:                    Ark   R-squared (uncentered):                   0.515\n",
      "Model:                            OLS   Adj. R-squared (uncentered):              0.513\n",
      "Method:                 Least Squares   F-statistic:                              365.9\n",
      "Date:                Sat, 17 May 2025   Prob (F-statistic):                        0.00\n",
      "Time:                        20:53:27   Log-Likelihood:                          6496.9\n",
      "No. Observations:                2422   AIC:                                 -1.298e+04\n",
      "Df Residuals:                    2415   BIC:                                 -1.294e+04\n",
      "Df Model:                           7                                                  \n",
      "Covariance Type:            nonrobust                                                  \n",
      "===============================================================================\n",
      "                  coef    std err          t      P>|t|      [0.025      0.975]\n",
      "-------------------------------------------------------------------------------\n",
      "SPY             1.4403      0.051     28.243      0.000       1.340       1.540\n",
      "Commodities    -0.0847      0.026     -3.269      0.001      -0.136      -0.034\n",
      "US HY           0.3580      0.105      3.397      0.001       0.151       0.565\n",
      "GOLD           -0.0093      0.014     -0.643      0.520      -0.037       0.019\n",
      "EURUSD          0.0807      0.073      1.104      0.270      -0.063       0.224\n",
      "USDJPY          0.0212      0.065      0.327      0.743      -0.106       0.148\n",
      "US GOVT         0.5144      0.089      5.782      0.000       0.340       0.689\n",
      "==============================================================================\n",
      "Omnibus:                      164.280   Durbin-Watson:                   2.041\n",
      "Prob(Omnibus):                  0.000   Jarque-Bera (JB):              730.608\n",
      "Skew:                           0.133   Prob(JB):                    2.24e-159\n",
      "Kurtosis:                       5.678   Cond. No.                         9.16\n",
      "==============================================================================\n",
      "\n",
      "Notes:\n",
      "[1] R² is computed without centering (uncentered) since the model does not contain a constant.\n",
      "[2] Standard Errors assume that the covariance matrix of the errors is correctly specified.\n"
     ]
    }
   ],
   "source": [
    "model = sm.OLS(y, X).fit()\n",
    "print(model.summary())"
   ]
  },
  {
   "cell_type": "markdown",
   "metadata": {
    "cell_id": "772312f9a73d4444a363435fe2dabdde",
    "deepnote_cell_type": "markdown"
   },
   "source": [
    "On a rolling basis, using only the statistically significant macro factors and combining HY and SPY to prevent multicollinearity:"
   ]
  },
  {
   "cell_type": "code",
   "execution_count": null,
   "metadata": {
    "cell_id": "40db7bb1a93c4c8f88df57e478c8d221",
    "deepnote_cell_type": "code",
    "execution_context_id": "04b5c186-7165-4dc0-9cc1-f9cc42a58673",
    "execution_millis": 2640,
    "execution_start": 1747515207167,
    "source_hash": "7134b4b3"
   },
   "outputs": [
    {
     "ename": "KeyError",
     "evalue": "'Synthetic Ark'",
     "output_type": "error",
     "traceback": [
      "\u001b[0;31m---------------------------------------------------------------------------\u001b[0m",
      "\u001b[0;31mKeyError\u001b[0m                                  Traceback (most recent call last)",
      "File \u001b[0;32m~/venv/lib/python3.10/site-packages/pandas/core/indexes/base.py:3791\u001b[0m, in \u001b[0;36mIndex.get_loc\u001b[0;34m(self, key)\u001b[0m\n\u001b[1;32m   3790\u001b[0m \u001b[38;5;28;01mtry\u001b[39;00m:\n\u001b[0;32m-> 3791\u001b[0m     \u001b[38;5;28;01mreturn\u001b[39;00m \u001b[38;5;28;43mself\u001b[39;49m\u001b[38;5;241;43m.\u001b[39;49m\u001b[43m_engine\u001b[49m\u001b[38;5;241;43m.\u001b[39;49m\u001b[43mget_loc\u001b[49m\u001b[43m(\u001b[49m\u001b[43mcasted_key\u001b[49m\u001b[43m)\u001b[49m\n\u001b[1;32m   3792\u001b[0m \u001b[38;5;28;01mexcept\u001b[39;00m \u001b[38;5;167;01mKeyError\u001b[39;00m \u001b[38;5;28;01mas\u001b[39;00m err:\n",
      "File \u001b[0;32mindex.pyx:152\u001b[0m, in \u001b[0;36mpandas._libs.index.IndexEngine.get_loc\u001b[0;34m()\u001b[0m\n",
      "File \u001b[0;32mindex.pyx:181\u001b[0m, in \u001b[0;36mpandas._libs.index.IndexEngine.get_loc\u001b[0;34m()\u001b[0m\n",
      "File \u001b[0;32mpandas/_libs/hashtable_class_helper.pxi:7080\u001b[0m, in \u001b[0;36mpandas._libs.hashtable.PyObjectHashTable.get_item\u001b[0;34m()\u001b[0m\n",
      "File \u001b[0;32mpandas/_libs/hashtable_class_helper.pxi:7088\u001b[0m, in \u001b[0;36mpandas._libs.hashtable.PyObjectHashTable.get_item\u001b[0;34m()\u001b[0m\n",
      "\u001b[0;31mKeyError\u001b[0m: 'Synthetic Ark'",
      "\nThe above exception was the direct cause of the following exception:\n",
      "\u001b[0;31mKeyError\u001b[0m                                  Traceback (most recent call last)",
      "Cell \u001b[0;32mIn[25], line 1\u001b[0m\n\u001b[0;32m----> 1\u001b[0m y \u001b[38;5;241m=\u001b[39m \u001b[43mmerged\u001b[49m\u001b[43m[\u001b[49m\u001b[38;5;124;43m'\u001b[39;49m\u001b[38;5;124;43mSynthetic Ark\u001b[39;49m\u001b[38;5;124;43m'\u001b[39;49m\u001b[43m]\u001b[49m\n\u001b[1;32m      2\u001b[0m X \u001b[38;5;241m=\u001b[39m merged[macroRets\u001b[38;5;241m.\u001b[39mcolumns][[\u001b[38;5;124m'\u001b[39m\u001b[38;5;124mSPY\u001b[39m\u001b[38;5;124m'\u001b[39m, \u001b[38;5;124m'\u001b[39m\u001b[38;5;124mCommodities\u001b[39m\u001b[38;5;124m'\u001b[39m, \u001b[38;5;124m'\u001b[39m\u001b[38;5;124mUS GOVT\u001b[39m\u001b[38;5;124m'\u001b[39m]]\n\u001b[1;32m      4\u001b[0m window_size \u001b[38;5;241m=\u001b[39m \u001b[38;5;241m60\u001b[39m  \u001b[38;5;66;03m# adjust as needed\u001b[39;00m\n",
      "File \u001b[0;32m~/venv/lib/python3.10/site-packages/pandas/core/frame.py:3893\u001b[0m, in \u001b[0;36mDataFrame.__getitem__\u001b[0;34m(self, key)\u001b[0m\n\u001b[1;32m   3891\u001b[0m \u001b[38;5;28;01mif\u001b[39;00m \u001b[38;5;28mself\u001b[39m\u001b[38;5;241m.\u001b[39mcolumns\u001b[38;5;241m.\u001b[39mnlevels \u001b[38;5;241m>\u001b[39m \u001b[38;5;241m1\u001b[39m:\n\u001b[1;32m   3892\u001b[0m     \u001b[38;5;28;01mreturn\u001b[39;00m \u001b[38;5;28mself\u001b[39m\u001b[38;5;241m.\u001b[39m_getitem_multilevel(key)\n\u001b[0;32m-> 3893\u001b[0m indexer \u001b[38;5;241m=\u001b[39m \u001b[38;5;28;43mself\u001b[39;49m\u001b[38;5;241;43m.\u001b[39;49m\u001b[43mcolumns\u001b[49m\u001b[38;5;241;43m.\u001b[39;49m\u001b[43mget_loc\u001b[49m\u001b[43m(\u001b[49m\u001b[43mkey\u001b[49m\u001b[43m)\u001b[49m\n\u001b[1;32m   3894\u001b[0m \u001b[38;5;28;01mif\u001b[39;00m is_integer(indexer):\n\u001b[1;32m   3895\u001b[0m     indexer \u001b[38;5;241m=\u001b[39m [indexer]\n",
      "File \u001b[0;32m~/venv/lib/python3.10/site-packages/pandas/core/indexes/base.py:3798\u001b[0m, in \u001b[0;36mIndex.get_loc\u001b[0;34m(self, key)\u001b[0m\n\u001b[1;32m   3793\u001b[0m     \u001b[38;5;28;01mif\u001b[39;00m \u001b[38;5;28misinstance\u001b[39m(casted_key, \u001b[38;5;28mslice\u001b[39m) \u001b[38;5;129;01mor\u001b[39;00m (\n\u001b[1;32m   3794\u001b[0m         \u001b[38;5;28misinstance\u001b[39m(casted_key, abc\u001b[38;5;241m.\u001b[39mIterable)\n\u001b[1;32m   3795\u001b[0m         \u001b[38;5;129;01mand\u001b[39;00m \u001b[38;5;28many\u001b[39m(\u001b[38;5;28misinstance\u001b[39m(x, \u001b[38;5;28mslice\u001b[39m) \u001b[38;5;28;01mfor\u001b[39;00m x \u001b[38;5;129;01min\u001b[39;00m casted_key)\n\u001b[1;32m   3796\u001b[0m     ):\n\u001b[1;32m   3797\u001b[0m         \u001b[38;5;28;01mraise\u001b[39;00m InvalidIndexError(key)\n\u001b[0;32m-> 3798\u001b[0m     \u001b[38;5;28;01mraise\u001b[39;00m \u001b[38;5;167;01mKeyError\u001b[39;00m(key) \u001b[38;5;28;01mfrom\u001b[39;00m\u001b[38;5;250m \u001b[39m\u001b[38;5;21;01merr\u001b[39;00m\n\u001b[1;32m   3799\u001b[0m \u001b[38;5;28;01mexcept\u001b[39;00m \u001b[38;5;167;01mTypeError\u001b[39;00m:\n\u001b[1;32m   3800\u001b[0m     \u001b[38;5;66;03m# If we have a listlike key, _check_indexing_error will raise\u001b[39;00m\n\u001b[1;32m   3801\u001b[0m     \u001b[38;5;66;03m#  InvalidIndexError. Otherwise we fall through and re-raise\u001b[39;00m\n\u001b[1;32m   3802\u001b[0m     \u001b[38;5;66;03m#  the TypeError.\u001b[39;00m\n\u001b[1;32m   3803\u001b[0m     \u001b[38;5;28mself\u001b[39m\u001b[38;5;241m.\u001b[39m_check_indexing_error(key)\n",
      "\u001b[0;31mKeyError\u001b[0m: 'Synthetic Ark'"
     ]
    }
   ],
   "source": [
    "y = merged['Ark']\n",
    "X = merged[macroRets.columns][['SPY', 'Commodities', 'US GOVT']]\n",
    "\n",
    "window_size = 60  # adjust as needed\n",
    "\n",
    "\n",
    "# Store rolling betas\n",
    "betas = []\n",
    "\n",
    "# Rolling regression\n",
    "for i in range(window_size, len(merged)):\n",
    "    y_window = y.iloc[i - window_size:i]\n",
    "    X_window = X.iloc[i - window_size:i]\n",
    "    \n",
    "    model = sm.OLS(y_window, X_window).fit()\n",
    "    betas.append(model.params)\n",
    "\n",
    "# Create DataFrame of betas\n",
    "betas_df = pd.DataFrame(betas, index=merged.index[window_size:])\n",
    "\n",
    "# Plot\n",
    "betas_df.plot(figsize=(10, 6), title='Rolling Regression Betas')\n",
    "plt.xlabel('Date')\n",
    "plt.ylabel('Beta Coefficient')\n",
    "plt.grid(True)\n",
    "plt.tight_layout()\n",
    "plt.show()"
   ]
  },
  {
   "cell_type": "markdown",
   "metadata": {
    "cell_id": "3a460e27f1da498e8110b11045cd1769",
    "deepnote_cell_type": "markdown"
   },
   "source": [
    "In addition to hedging SPY downturns as discussed in the previous section, we should also consider hedging commodities, US high yield, and US treasuries, all of which have statistically significant betas."
   ]
  },
  {
   "cell_type": "markdown",
   "metadata": {
    "cell_id": "68fb96a948194af7bb3069c5f85f3e4b",
    "deepnote_cell_type": "markdown"
   },
   "source": [
    "### Principal Component Analysis on Ark Holdings ###"
   ]
  },
  {
   "cell_type": "markdown",
   "metadata": {
    "cell_id": "eec5b8534f234099880d50aabca38263",
    "deepnote_cell_type": "markdown"
   },
   "source": [
    "If we now consider the portfolio given by Ark's current holdings, can we find the principal components for this portfolio and then assess the principal components' macro exposures?"
   ]
  },
  {
   "cell_type": "code",
   "execution_count": null,
   "metadata": {
    "cell_id": "df9a3e9cef1d4335a5bc3237800da341",
    "deepnote_cell_type": "code",
    "deepnote_to_be_reexecuted": true,
    "execution_context_id": "5f5c2cf9-80fa-40e2-acc5-5c6b51cde9bf",
    "execution_start": 1747513890076,
    "source_hash": "6fca724c"
   },
   "outputs": [
    {
     "data": {
      "text/plain": [
       "Text(0, 0.5, 'Count')"
      ]
     },
     "execution_count": 31,
     "metadata": {},
     "output_type": "execute_result"
    },
    {
     "data": {
      "image/png": "[encoded data removed]",
      "text/plain": [
       "<Figure size 640x480 with 1 Axes>"
      ]
     },
     "metadata": {
      "image/png": {
       "height": 435,
       "width": 562
      }
     },
     "output_type": "display_data"
    }
   ],
   "source": [
    "tickerRets['ticker count'] = tickerRets.notna().sum(axis=1)\n",
    "plt.plot(tickerRets['ticker count'])\n",
    "plt.title('Holdings in Synthetic Ark')\n",
    "plt.ylabel('Count')"
   ]
  },
  {
   "cell_type": "markdown",
   "metadata": {
    "cell_id": "637c95b596f84cee9433a3a372eedffd",
    "deepnote_cell_type": "markdown"
   },
   "source": [
    "Based on the chart above, let's look at the data since 2022. "
   ]
  },
  {
   "cell_type": "code",
   "execution_count": null,
   "metadata": {
    "cell_id": "0739f922c4be4d83b8dfb9916981aa7b",
    "deepnote_cell_type": "code",
    "deepnote_to_be_reexecuted": true,
    "execution_context_id": "5f5c2cf9-80fa-40e2-acc5-5c6b51cde9bf",
    "execution_millis": 0,
    "execution_start": 1747513900754,
    "source_hash": "b20a1d0c"
   },
   "outputs": [],
   "source": [
    "tickerRetsRecent = tickerRets.loc['2022':].dropna(how='any', axis=1)\n",
    "X = (tickerRetsRecent - tickerRetsRecent.mean())\n",
    "X.drop(columns='ticker count', inplace=True)\n",
    "\n",
    "\n",
    "pca = PCA(n_components=3)\n",
    "pca.fit(X)\n",
    "\n",
    "\n",
    "loadings = pd.DataFrame(\n",
    "    pca.components_.T,\n",
    "    index=X\n",
    ".columns,\n",
    "    columns=['PC1', 'PC2', 'PC3']\n",
    ")\n"
   ]
  },
  {
   "cell_type": "code",
   "execution_count": null,
   "metadata": {
    "cell_id": "d5840c654aa645a9a7e4bb82bcf5bb5f",
    "deepnote_cell_type": "code",
    "deepnote_to_be_reexecuted": true,
    "execution_context_id": "5f5c2cf9-80fa-40e2-acc5-5c6b51cde9bf",
    "execution_millis": 135,
    "execution_start": 1747513903810,
    "source_hash": "1b8f695"
   },
   "outputs": [
    {
     "data": {
      "image/png": "[encoded data removed]",
      "text/plain": [
       "<Figure size 800x500 with 1 Axes>"
      ]
     },
     "metadata": {
      "image/png": {
       "height": 490,
       "width": 790
      }
     },
     "output_type": "display_data"
    }
   ],
   "source": [
    "explained_var = pca.explained_variance_ratio_\n",
    "\n",
    "# Plot the explained variance\n",
    "plt.figure(figsize=(8, 5))\n",
    "plt.bar(range(1, len(explained_var) + 1), explained_var, color='skyblue', edgecolor='black')\n",
    "plt.xlabel('Principal Component')\n",
    "plt.ylabel('Explained Variance Ratio')\n",
    "plt.title('Explained Variance by Principal Component')\n",
    "plt.xticks(range(1, len(explained_var) + 1))\n",
    "plt.grid(axis='y', linestyle='--', alpha=0.6)\n",
    "plt.tight_layout()\n",
    "plt.show()"
   ]
  },
  {
   "cell_type": "code",
   "execution_count": null,
   "metadata": {
    "cell_id": "22fc723ee58c4d90ba93b9df858c9eb4",
    "deepnote_cell_type": "code",
    "deepnote_to_be_reexecuted": true,
    "execution_context_id": "5f5c2cf9-80fa-40e2-acc5-5c6b51cde9bf",
    "execution_millis": 359,
    "execution_start": 1747513920136,
    "source_hash": "70bd3b80"
   },
   "outputs": [
    {
     "data": {
      "image/png": "[encoded data removed]",
      "text/plain": [
       "<Figure size 1200x600 with 1 Axes>"
      ]
     },
     "metadata": {
      "image/png": {
       "height": 590,
       "width": 1189
      }
     },
     "output_type": "display_data"
    }
   ],
   "source": [
    "plt.figure(figsize=(12, 6))\n",
    "loadings['PC1'].plot(kind='bar', color='steelblue', edgecolor='black')\n",
    "\n",
    "plt.title('PC1 Loadings by Asset')\n",
    "plt.xlabel('Asset')\n",
    "plt.ylabel('Loading on PC1')\n",
    "plt.xticks(rotation=45, ha='right')\n",
    "plt.grid(axis='y', linestyle='--', alpha=0.6)\n",
    "plt.tight_layout()\n",
    "plt.show()\n"
   ]
  },
  {
   "cell_type": "markdown",
   "metadata": {
    "cell_id": "3f0812e2bce64b3bbd851519a2131000",
    "deepnote_cell_type": "markdown"
   },
   "source": [
    "By far the most variance is explained by PC1. Unsurprisingly, PC1 loadings all have the same sign. This is basically an overall equity market factor. "
   ]
  },
  {
   "cell_type": "code",
   "execution_count": null,
   "metadata": {
    "cell_id": "0e1fa9d3a6ad4b77b45946b663007793",
    "deepnote_cell_type": "code",
    "deepnote_to_be_reexecuted": true
   },
   "outputs": [
    {
     "data": {
      "image/png": "[encoded data removed]",
      "text/plain": [
       "<Figure size 864x432 with 1 Axes>"
      ]
     },
     "metadata": {
      "needs_background": "light"
     },
     "output_type": "display_data"
    }
   ],
   "source": [
    "plt.figure(figsize=(12, 6))\n",
    "loadings['PC2'].plot(kind='bar', color='red', edgecolor='black')\n",
    "\n",
    "plt.title('PC2 Loadings by Asset')\n",
    "plt.xlabel('Asset')\n",
    "plt.ylabel('Loading on PC2')\n",
    "plt.xticks(rotation=45, ha='right')\n",
    "plt.grid(axis='y', linestyle='--', alpha=0.6)\n",
    "plt.tight_layout()\n",
    "plt.show()"
   ]
  },
  {
   "cell_type": "markdown",
   "metadata": {
    "cell_id": "f16732a51e2c490ead56ea5dcbcee28c",
    "deepnote_cell_type": "markdown"
   },
   "source": [
    "The second PC is the health care sector. All of the assets with positive PC2 loadings are in the healthcare sector, eg. Crispr Therapeutics. Based on this, we may want to consider a healthcare sector hedge to prevent macro sector exposure."
   ]
  },
  {
   "cell_type": "code",
   "execution_count": null,
   "metadata": {
    "cell_id": "beb19aae9fc943609e9af0e9f6e3db39",
    "deepnote_cell_type": "code",
    "deepnote_to_be_reexecuted": true
   },
   "outputs": [
    {
     "data": {
      "image/png": "[encoded data removed]",
      "text/plain": [
       "<Figure size 864x432 with 1 Axes>"
      ]
     },
     "metadata": {
      "needs_background": "light"
     },
     "output_type": "display_data"
    }
   ],
   "source": [
    "plt.figure(figsize=(12, 6))\n",
    "loadings['PC3'].plot(kind='bar', color='green', edgecolor='black')\n",
    "\n",
    "plt.title('PC3Loadings by Asset')\n",
    "plt.xlabel('Asset')\n",
    "plt.ylabel('Loading on PC3')\n",
    "plt.xticks(rotation=45, ha='right')\n",
    "plt.grid(axis='y', linestyle='--', alpha=0.6)\n",
    "plt.tight_layout()\n",
    "plt.show()"
   ]
  },
  {
   "cell_type": "markdown",
   "metadata": {
    "cell_id": "253465b0193e405ab9c9b866c88334d1",
    "deepnote_cell_type": "markdown"
   },
   "source": [
    "It is unclear what PC3 represents and it is likely statistical noise. "
   ]
  },
  {
   "cell_type": "markdown",
   "metadata": {
    "cell_id": "c47c1dd70b37414b9599ace1b07bb46a",
    "deepnote_cell_type": "markdown"
   },
   "source": [
    "### Macro Hedging with Ark Holdings ###"
   ]
  },
  {
   "cell_type": "markdown",
   "metadata": {
    "cell_id": "a6f37c46019941d2895de759d708a403",
    "deepnote_cell_type": "markdown"
   },
   "source": [
    "We have already calculated the returns on Synthetic Ark. Given that Synthetic Ark is composed of the current Ark holdings, one could argue that it's more important to hedge Synthetic Ark's returns than Ark's historical returns. Therefore we will regress Synthetic Ark's returns on the important macro assets below."
   ]
  },
  {
   "cell_type": "code",
   "execution_count": null,
   "metadata": {
    "cell_id": "28676ca8483942ad8ac3ec20c2f31866",
    "deepnote_cell_type": "code",
    "deepnote_to_be_reexecuted": true
   },
   "outputs": [],
   "source": [
    "syntheticRetsRecent = syntheticRets.loc['2022':]\n",
    "macroRetsRecent = macroRets[macroRets.index.isin(syntheticRetsRecent.index)][['SPY', 'Commodities', 'US GOVT']]\n",
    "syntheticRetsRecent = syntheticRetsRecent[syntheticRetsRecent.index.isin(macroRetsRecent.index)]"
   ]
  },
  {
   "cell_type": "code",
   "execution_count": null,
   "metadata": {
    "cell_id": "90c511c620414f43a8da6d91ba686453",
    "deepnote_cell_type": "code",
    "deepnote_to_be_reexecuted": true
   },
   "outputs": [
    {
     "name": "stdout",
     "output_type": "stream",
     "text": [
      "                                 OLS Regression Results                                \n",
      "=======================================================================================\n",
      "Dep. Variable:                      y   R-squared (uncentered):                   0.627\n",
      "Model:                            OLS   Adj. R-squared (uncentered):              0.625\n",
      "Method:                 Least Squares   F-statistic:                              448.0\n",
      "Date:                Sat, 17 May 2025   Prob (F-statistic):                   1.01e-170\n",
      "Time:                        00:58:59   Log-Likelihood:                          2041.9\n",
      "No. Observations:                 803   AIC:                                     -4078.\n",
      "Df Residuals:                     800   BIC:                                     -4064.\n",
      "Df Model:                           3                                                  \n",
      "Covariance Type:            nonrobust                                                  \n",
      "===============================================================================\n",
      "                  coef    std err          t      P>|t|      [0.025      0.975]\n",
      "-------------------------------------------------------------------------------\n",
      "SPY             2.0385      0.056     36.081      0.000       1.928       2.149\n",
      "Commodities    -0.0937      0.049     -1.896      0.058      -0.191       0.003\n",
      "US GOVT         0.2605      0.122      2.135      0.033       0.021       0.500\n",
      "==============================================================================\n",
      "Omnibus:                       19.784   Durbin-Watson:                   1.893\n",
      "Prob(Omnibus):                  0.000   Jarque-Bera (JB):               29.692\n",
      "Skew:                           0.220   Prob(JB):                     3.57e-07\n",
      "Kurtosis:                       3.833   Cond. No.                         2.61\n",
      "==============================================================================\n",
      "\n",
      "Notes:\n",
      "[1] R² is computed without centering (uncentered) since the model does not contain a constant.\n",
      "[2] Standard Errors assume that the covariance matrix of the errors is correctly specified.\n"
     ]
    }
   ],
   "source": [
    "model = sm.OLS(syntheticRetsRecent, macroRetsRecent).fit()\n",
    "print(model.summary())"
   ]
  },
  {
   "cell_type": "markdown",
   "metadata": {
    "cell_id": "48d09c9cdf824a80837b4bda1ab073bc",
    "deepnote_cell_type": "markdown"
   },
   "source": [
    "To make this a dynamic tool that can be used to assess Ark's macro exposures on an ongoing basis, we can run rolling regressions:"
   ]
  },
  {
   "cell_type": "code",
   "execution_count": null,
   "metadata": {
    "cell_id": "fd32243990f24c0bb4c200a1b45fa68b",
    "deepnote_cell_type": "code",
    "deepnote_to_be_reexecuted": true
   },
   "outputs": [],
   "source": [
    "allRets = pd.concat([syntheticRets, macroRets[['SPY', 'Commodities', 'US GOVT']]], axis=1).dropna()\n",
    "allRets.rename(columns={0:'syntheticArk'}, inplace=True)"
   ]
  },
  {
   "cell_type": "code",
   "execution_count": null,
   "metadata": {
    "cell_id": "82b0eb3904124be0b0cfe964828d72a2",
    "deepnote_cell_type": "code",
    "deepnote_to_be_reexecuted": true
   },
   "outputs": [
    {
     "data": {
      "image/png": "[encoded data removed]",
      "text/plain": [
       "<Figure size 720x432 with 1 Axes>"
      ]
     },
     "metadata": {
      "needs_background": "light"
     },
     "output_type": "display_data"
    }
   ],
   "source": [
    "window_size = 60  # adjust as needed\n",
    "\n",
    "# Prepare Data\n",
    "y = allRets['syntheticArk']\n",
    "X = allRets.drop(columns=['syntheticArk'])\n",
    "\n",
    "# Store rolling betas\n",
    "betas = []\n",
    "\n",
    "# Rolling regression\n",
    "for i in range(window_size, len(allRets)):\n",
    "    y_window = y.iloc[i - window_size:i]\n",
    "    X_window = X.iloc[i - window_size:i]\n",
    "    \n",
    "    model = sm.OLS(y_window, X_window).fit()\n",
    "    betas.append(model.params)\n",
    "\n",
    "# Create DataFrame of betas\n",
    "betas_df = pd.DataFrame(betas, index=allRets.index[window_size:])\n",
    "\n",
    "# Plot\n",
    "betas_df.plot(figsize=(10, 6), title='Rolling Regression Betas')\n",
    "plt.xlabel('Date')\n",
    "plt.ylabel('Beta Coefficient')\n",
    "plt.grid(True)\n",
    "plt.tight_layout()\n",
    "plt.show()"
   ]
  }
 ],
 "metadata": {
  "deepnote_notebook_id": "44605b50a9c343e28cada395aeda0264",
  "deepnote_persisted_session": {
   "createdAt": "2025-05-17T20:50:52.441Z"
  },
  "kernelspec": {
   "display_name": "mf",
   "language": "python",
   "name": "python3"
  },
  "language_info": {
   "codemirror_mode": {
    "name": "ipython",
    "version": 3
   },
   "file_extension": ".py",
   "mimetype": "text/x-python",
   "name": "python",
   "nbconvert_exporter": "python",
   "pygments_lexer": "ipython3",
   "version": "3.11.11"
  }
 },
 "nbformat": 4,
 "nbformat_minor": 0
}
